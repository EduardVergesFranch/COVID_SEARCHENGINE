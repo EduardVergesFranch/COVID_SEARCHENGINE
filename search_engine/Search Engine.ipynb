{
 "cells": [
  {
   "cell_type": "code",
   "execution_count": 56,
   "metadata": {
    "colab": {
     "base_uri": "https://localhost:8080/"
    },
    "executionInfo": {
     "elapsed": 862,
     "status": "ok",
     "timestamp": 1607422891332,
     "user": {
      "displayName": "JAVIER RANDO",
      "photoUrl": "https://lh3.googleusercontent.com/a-/AOh14GiNPaYf78UhV7NkeRoHbkKX8Kt0UJY7GUBA6fN9TQ=s64",
      "userId": "02059478865524595396"
     },
     "user_tz": -60
    },
    "id": "GMv7w01T1bk9",
    "outputId": "968837f6-663c-44ea-9290-bdcac6ee78a8"
   },
   "outputs": [],
   "source": [
    "import numpy as np\n",
    "import pandas as pd\n",
    "import matplotlib.pyplot as plt\n",
    "import os\n",
    "import json\n",
    "import pickle\n",
    "from sklearn.metrics.pairwise import cosine_similarity\n",
    "from utils import clean_text, personalized_tokenizer"
   ]
  },
  {
   "cell_type": "code",
   "execution_count": null,
   "metadata": {},
   "outputs": [],
   "source": [
    "#Download required files stored in Google Drive\n",
    "!wget --load-cookies /tmp/cookies.txt \"https://docs.google.com/uc?export=download&confirm=$(wget --quiet --save-cookies /tmp/cookies.txt --keep-session-cookies --no-check-certificate 'https://docs.google.com/uc?export=download&id=1YhFADfXR26nTdR6inRu0WFfA-LTgNS7h' -O- | sed -rn 's/.*confirm=([0-9A-Za-z_]+).*/\\1\\n/p')&id=1YhFADfXR26nTdR6inRu0WFfA-LTgNS7h\" -O tweets_with_authority.csv.zip && rm -rf /tmp/cookies.txt\n",
    "!wget --load-cookies /tmp/cookies.txt \"https://docs.google.com/uc?export=download&confirm=$(wget --quiet --save-cookies /tmp/cookies.txt --keep-session-cookies --no-check-certificate 'https://docs.google.com/uc?export=download&id=1B_RrXtR-GI1VHyRJs49Y8_eh492ZNtFw' -O- | sed -rn 's/.*confirm=([0-9A-Za-z_]+).*/\\1\\n/p')&id=1B_RrXtR-GI1VHyRJs49Y8_eh492ZNtFw\" -O inverted_index.json && rm -rf /tmp/cookies.txt\n",
    "!wget --load-cookies /tmp/cookies.txt \"https://docs.google.com/uc?export=download&confirm=$(wget --quiet --save-cookies /tmp/cookies.txt --keep-session-cookies --no-check-certificate 'https://docs.google.com/uc?export=download&id=1-14RBWKT1lR0QxFxFnkIbClgtJLpT5q9' -O- | sed -rn 's/.*confirm=([0-9A-Za-z_]+).*/\\1\\n/p')&id=1-14RBWKT1lR0QxFxFnkIbClgtJLpT5q9\" -O vectorizer.pickle && rm -rf /tmp/cookies.txt"
   ]
  },
  {
   "cell_type": "code",
   "execution_count": 7,
   "metadata": {},
   "outputs": [
    {
     "name": "stderr",
     "output_type": "stream",
     "text": [
      "[nltk_data] Downloading package stopwords to /Users/javi/nltk_data...\n",
      "[nltk_data]   Package stopwords is already up-to-date!\n"
     ]
    }
   ],
   "source": [
    "import nltk\n",
    "nltk.download('stopwords')"
   ]
  },
  {
   "cell_type": "markdown",
   "metadata": {
    "id": "HJSqMmgz6OtR"
   },
   "source": [
    "# SEARCH ENGINE\n",
    "\n",
    "It is required to construct the search engine previously with the module `Search Engine Construction`. Once it is executed, this can be used independently."
   ]
  },
  {
   "cell_type": "code",
   "execution_count": 24,
   "metadata": {},
   "outputs": [],
   "source": [
    "AUTHORITY_DATASET = \"tweets_with_authority.csv.zip\"\n",
    "INVERTED_INDEX = \"inverted_index.json\"\n",
    "VECTORIZER = \"vectorizer.pickle\"\n",
    "INPUT_PATH = \"./\"\n",
    "MODES = ['1', '2']"
   ]
  },
  {
   "cell_type": "code",
   "execution_count": 53,
   "metadata": {},
   "outputs": [],
   "source": [
    "class TwitterSearch:\n",
    "    def __init__(self):\n",
    "        self.data, self.corpus, self.vectorizer, self.inverted_index = self._load_information()\n",
    "\n",
    "    def _load_information(self):\n",
    "        # Load pretrained vectorizer\n",
    "        vectorizer = pickle.load(open(INPUT_PATH + VECTORIZER, \"rb\"))\n",
    "\n",
    "        # Load corpus\n",
    "        df = pd.read_csv(INPUT_PATH + AUTHORITY_DATASET)\n",
    "        corpus = df['clean_text']\n",
    "        corpus = corpus.fillna('')\n",
    "        corpus = vectorizer.transform(corpus)\n",
    "        \n",
    "        with open(INPUT_PATH + INVERTED_INDEX, 'r') as f:\n",
    "            inverted_index = json.load(f)\n",
    "\n",
    "        return df, corpus, vectorizer, inverted_index\n",
    "\n",
    "    def _get_tweet_fields(self, i):\n",
    "        \"\"\"\n",
    "        Returns the relevant fields for each tweet\n",
    "        i: id of the tweet we want to extract the information\n",
    "        returns various fields needed for showing the result to the user\n",
    "        \"\"\"\n",
    "        df = self.data\n",
    "        user_name = eval(df.iloc[i]['user'])['name']\n",
    "        text = df.iloc[i]['full_text']\n",
    "        entities = eval(df.iloc[i]['entities'])\n",
    "        urls = entities['urls']\n",
    "        if urls:\n",
    "            url = urls[0]['url']\n",
    "            text = text.replace(url, '')\n",
    "        else:\n",
    "            url = 'No url'\n",
    "\n",
    "        hashtags = entities['hashtags']\n",
    "\n",
    "        if not hashtags:\n",
    "            hashtags = 'No hashtags'\n",
    "\n",
    "        favorite_count = df.iloc[i]['favorite_count']\n",
    "        retweet_count = df.iloc[i]['retweet_count']\n",
    "        followers_count = df.iloc[i]['followers_count']\n",
    "\n",
    "        return user_name, text, url, hashtags, favorite_count, retweet_count, followers_count\n",
    "\n",
    "    def find_full_match_docs(self, query):\n",
    "        \"\"\"\n",
    "        Return the indexes of the documents containing all terms in the query\n",
    "        \"\"\"\n",
    "        docs = None\n",
    "\n",
    "        for word in query.split():\n",
    "            if docs is None:\n",
    "                docs = set([i[0] for i in self.inverted_index[word]])\n",
    "            else:\n",
    "                docs = docs.intersection(set([i[0] for i in self.inverted_index[word]]))\n",
    "        return list(self.data[self.data['id_str'].isin(docs)].index)\n",
    "\n",
    "    \n",
    "    def return_top_n_doc(self,query,n,show = True,authority = None):\n",
    "        \"\"\"\n",
    "        query: Query that the user writes.\n",
    "        tf_idf: dataframe containing tfidf weights for each word in each doc\n",
    "        n: number of doc to return to the user\n",
    "        show: if you want to visualize the results\n",
    "\n",
    "        returns a list with the most top n relevant tweets\n",
    "        \"\"\"\n",
    "        assert n>0, \"n should be a positive integer\"\n",
    "        query = clean_text(query) #noramalize the query\n",
    "        query_vec = self.vectorizer.transform([query]) #calculate tdidf\n",
    "        results = cosine_similarity(self.corpus, query_vec)\n",
    "        results = results.flatten()\n",
    "\n",
    "        documents_retrieved = []\n",
    "\n",
    "        #######Return the results#########\n",
    "        rank=0\n",
    "\n",
    "        if authority is not None:\n",
    "            results = 3*results*0.5*authority\n",
    "\n",
    "        # Reverse the results\n",
    "        results = results.argsort()[::-1]\n",
    "\n",
    "        ## Generate print mask for results\n",
    "\n",
    "        # The mask will contain the indexes from the results array in printing order\n",
    "        # By default this mask will be the first n results of our cosine similarity output\n",
    "        mask = [i for i in range(n)]\n",
    "\n",
    "        # We find those documents that contain all the terms in the query\n",
    "        full_matches = np.array(self.find_full_match_docs(query))\n",
    "\n",
    "        # If we have more full matches than desired results, we just use them in order to print\n",
    "        if len(full_matches)>=n:\n",
    "            mask = list(np.where(np.isin(results, full_matches))[0])\n",
    "\n",
    "        elif len(full_matches)==0:\n",
    "            pass    \n",
    "        # If not, we will include first those with full match and the remaining ones will be ordered\n",
    "        # simply by cosine similarity\n",
    "        else:\n",
    "            full_rank = 0\n",
    "\n",
    "            for i in range(len(results)):\n",
    "                if results[i] in full_matches:\n",
    "                    # Insert the full matches at the beggining to preserve the order of the remaining results\n",
    "                    mask.insert(full_rank, i) \n",
    "                    full_rank+=1\n",
    "\n",
    "        # Ensure we will only print n results\n",
    "        mask = mask[:n]\n",
    "\n",
    "        # Print following the order determined by the mask\n",
    "        for i in mask:\n",
    "            i = int(i)\n",
    "            user_name, text, url, hashtags, favorites, retweets, followers = self._get_tweet_fields(results[i])\n",
    "            if show == True:\n",
    "                print(\"-->\",rank + 1)\n",
    "                print(text,\" | \",user_name,\" | \",self.data.iloc[results[i]]['created_at'],\" | \", hashtags[:] ,\" | \",favorites,\" | \", retweets,\" | \",url, \" | \", followers)\n",
    "            \n",
    "            documents_retrieved.append(results[i])\n",
    "            rank +=1\n",
    "\n",
    "        return documents_retrieved\n",
    "\n",
    "    def query(self, query, n=20, authority=None):\n",
    "        self.return_top_n_doc(query, n, authority)\n",
    "\n",
    "    def interface(self):\n",
    "        while True:\n",
    "            n = int(input(\"Enter the desired number of results: \"))\n",
    "            assert n>0, \"The number of results must be a positive integer number\"\n",
    "            while True:\n",
    "                mode = str(input(\"\"\"Which mode would you like to use (insert number for the desired option)\\n1: TF-IDF\\n2: TF-IDF and authority\\n\"\"\"))\n",
    "                \n",
    "                if mode in MODES:\n",
    "                    break\n",
    "                else:\n",
    "                    print(\"Please insert some of these options: {}\".format(', '.join(MODES)))\n",
    "\n",
    "            query = input(\"Enter your query: \")\n",
    "            if mode == \"1\":\n",
    "                self.query(query, n)\n",
    "            elif mode == \"2\":\n",
    "                self.query(query, n, authority=True)\n"
   ]
  },
  {
   "cell_type": "code",
   "execution_count": 54,
   "metadata": {},
   "outputs": [],
   "source": [
    "SE = TwitterSearch()"
   ]
  },
  {
   "cell_type": "code",
   "execution_count": 55,
   "metadata": {},
   "outputs": [
    {
     "name": "stdout",
     "output_type": "stream",
     "text": [
      "Enter the desired number of results: 10\n",
      "Which mode would you like to use (insert number for the desired option)\n",
      "1: TF-IDF\n",
      "2: TF-IDF and authority\n",
      "2\n",
      "Enter your query: edu tonto\n",
      "--> 1\n",
      "@victoriambb Tonto covid :(  |  Luisa  |  2020-11-19 17:04:30+00:00  |  No hashtags  |  1  |  0  |  No url  |  244\n",
      "--> 2\n",
      "Scottish Government going tonto on the \"Change Expectations\" button on Fitba Manager here.   |  Jay H  |  2020-11-19 16:00:26+00:00  |  No hashtags  |  1  |  1  |  https://t.co/QxUzJn83Ud  |  2770\n",
      "--> 3\n",
      "This is the greatest news!\n",
      "\n",
      "Download the app and login with you  or .edu email address and free yoga practice 🧘‍♀️ \n",
      "\n",
      "Highly recommend ✨ https://t.co/GKdGEeHJaC  |  Bethany Kate  |  2020-11-19 17:28:11+00:00  |  No hashtags  |  0  |  1  |  https://t.co/Bh8ZAk31mD  |  520\n",
      "--> 4\n",
      "❗️My fave🧘🏻‍♀️💪app @downdogapp has reopened free usage for students, teachers &amp; healthcare workers due to covid surge. \n",
      "Please take care of yourselves. ❤️\n",
      "•Anyone with a .edu email\n",
      "•Students/teachers \n",
      "•Healthcare workers: https://t.co/4hCDR92IkG https://t.co/LmiOvY6SMm  |  Heidi Van Horne  |  2020-11-19 15:48:17+00:00  |  No hashtags  |  1  |  0  |  https://t.co/m86bhjFc6b  |  5343\n",
      "--> 5\n",
      "Yes, school closures should be a last resort.\n",
      "\n",
      "But I just hate Kristof’s habitual use of this form of reasoning, as though correlations between event dropouts and longevity imply that low levels of edu attainment are literally, in themselves, deadly like a virus.   |  DG  |  2020-11-19 15:42:31+00:00  |  No hashtags  |  0  |  0  |  https://t.co/1LTbpKJ4pc  |  569\n",
      "--> 6\n",
      "@CoreyTando @SassyUpstateNY @DaveSwingTrader @NYGovCuomo Your choice but u have to live with it if you don’t follow protocols and you or a family member or friend contract COVID and get very sick and possibly die.  |  Meryl Alexander  |  2020-11-19 17:53:48+00:00  |  No hashtags  |  1  |  0  |  No url  |  17\n",
      "--> 7\n",
      "Coronavirus updates: Oxford vaccine shows promise; Europe sees decline in new cases; pork plant managers bet on number of infections  A shout out to President Donald J. Trump under who's administration this vaccine came out.  |  Bob Francis  |  2020-11-19 16:24:22+00:00  |  No hashtags  |  0  |  0  |  https://t.co/7mDwp47hTT  |  656\n",
      "--> 8\n",
      "@MaribellaTiTi In S. Korea and Japan it is normal to wear a mask if you are ill. It's considered good manners not to spread your germs to others. This is even from before COVID19. Guess who has relatively few COVID deaths? Wear a mask.  |  Sognando di Sicilia pensa che tr*mp ha paura.  |  2020-11-19 16:24:21+00:00  |  No hashtags  |  37  |  0  |  No url  |  2839\n",
      "--> 9\n",
      "Pennsylvania is Covid surging more than surrounding states. I guess thar happens after multiple Super Spreader rallies.  |  Billy Shoes😎  |  2020-11-19 16:24:21+00:00  |  No hashtags  |  0  |  0  |  No url  |  111\n",
      "--> 10\n",
      "Have a wonderful day while you celebrate you!!#sanditon #savesanditon #sanditonpbs  https://t.co/AhgP9qGTRV  |  Terry P 🇺🇸  |  2020-11-19 16:24:21+00:00  |  [{'text': 'sanditon', 'indices': [46, 55]}, {'text': 'savesanditon', 'indices': [56, 69]}, {'text': 'sanditonpbs', 'indices': [70, 82]}]  |  1  |  2  |  https://t.co/kwSbOPNunR  |  581\n"
     ]
    },
    {
     "ename": "KeyboardInterrupt",
     "evalue": "Interrupted by user",
     "output_type": "error",
     "traceback": [
      "\u001b[0;31m---------------------------------------------------------------------------\u001b[0m",
      "\u001b[0;31mKeyboardInterrupt\u001b[0m                         Traceback (most recent call last)",
      "\u001b[0;32m<ipython-input-55-d97f80758156>\u001b[0m in \u001b[0;36m<module>\u001b[0;34m\u001b[0m\n\u001b[0;32m----> 1\u001b[0;31m \u001b[0mSE\u001b[0m\u001b[0;34m.\u001b[0m\u001b[0minterface\u001b[0m\u001b[0;34m(\u001b[0m\u001b[0;34m)\u001b[0m\u001b[0;34m\u001b[0m\u001b[0;34m\u001b[0m\u001b[0m\n\u001b[0m",
      "\u001b[0;32m<ipython-input-53-38110f66a59b>\u001b[0m in \u001b[0;36minterface\u001b[0;34m(self)\u001b[0m\n\u001b[1;32m    133\u001b[0m     \u001b[0;32mdef\u001b[0m \u001b[0minterface\u001b[0m\u001b[0;34m(\u001b[0m\u001b[0mself\u001b[0m\u001b[0;34m)\u001b[0m\u001b[0;34m:\u001b[0m\u001b[0;34m\u001b[0m\u001b[0;34m\u001b[0m\u001b[0m\n\u001b[1;32m    134\u001b[0m         \u001b[0;32mwhile\u001b[0m \u001b[0;32mTrue\u001b[0m\u001b[0;34m:\u001b[0m\u001b[0;34m\u001b[0m\u001b[0;34m\u001b[0m\u001b[0m\n\u001b[0;32m--> 135\u001b[0;31m             \u001b[0mn\u001b[0m \u001b[0;34m=\u001b[0m \u001b[0mint\u001b[0m\u001b[0;34m(\u001b[0m\u001b[0minput\u001b[0m\u001b[0;34m(\u001b[0m\u001b[0;34m\"Enter the desired number of results: \"\u001b[0m\u001b[0;34m)\u001b[0m\u001b[0;34m)\u001b[0m\u001b[0;34m\u001b[0m\u001b[0;34m\u001b[0m\u001b[0m\n\u001b[0m\u001b[1;32m    136\u001b[0m             \u001b[0;32massert\u001b[0m \u001b[0mn\u001b[0m\u001b[0;34m>\u001b[0m\u001b[0;36m0\u001b[0m\u001b[0;34m,\u001b[0m \u001b[0;34m\"The number of results must be a positive integer number\"\u001b[0m\u001b[0;34m\u001b[0m\u001b[0;34m\u001b[0m\u001b[0m\n\u001b[1;32m    137\u001b[0m             \u001b[0;32mwhile\u001b[0m \u001b[0;32mTrue\u001b[0m\u001b[0;34m:\u001b[0m\u001b[0;34m\u001b[0m\u001b[0;34m\u001b[0m\u001b[0m\n",
      "\u001b[0;32m~/miniconda3/envs/upf/lib/python3.8/site-packages/ipykernel/kernelbase.py\u001b[0m in \u001b[0;36mraw_input\u001b[0;34m(self, prompt)\u001b[0m\n\u001b[1;32m    858\u001b[0m                 \u001b[0;34m\"raw_input was called, but this frontend does not support input requests.\"\u001b[0m\u001b[0;34m\u001b[0m\u001b[0;34m\u001b[0m\u001b[0m\n\u001b[1;32m    859\u001b[0m             )\n\u001b[0;32m--> 860\u001b[0;31m         return self._input_request(str(prompt),\n\u001b[0m\u001b[1;32m    861\u001b[0m             \u001b[0mself\u001b[0m\u001b[0;34m.\u001b[0m\u001b[0m_parent_ident\u001b[0m\u001b[0;34m,\u001b[0m\u001b[0;34m\u001b[0m\u001b[0;34m\u001b[0m\u001b[0m\n\u001b[1;32m    862\u001b[0m             \u001b[0mself\u001b[0m\u001b[0;34m.\u001b[0m\u001b[0m_parent_header\u001b[0m\u001b[0;34m,\u001b[0m\u001b[0;34m\u001b[0m\u001b[0;34m\u001b[0m\u001b[0m\n",
      "\u001b[0;32m~/miniconda3/envs/upf/lib/python3.8/site-packages/ipykernel/kernelbase.py\u001b[0m in \u001b[0;36m_input_request\u001b[0;34m(self, prompt, ident, parent, password)\u001b[0m\n\u001b[1;32m    902\u001b[0m             \u001b[0;32mexcept\u001b[0m \u001b[0mKeyboardInterrupt\u001b[0m\u001b[0;34m:\u001b[0m\u001b[0;34m\u001b[0m\u001b[0;34m\u001b[0m\u001b[0m\n\u001b[1;32m    903\u001b[0m                 \u001b[0;31m# re-raise KeyboardInterrupt, to truncate traceback\u001b[0m\u001b[0;34m\u001b[0m\u001b[0;34m\u001b[0m\u001b[0;34m\u001b[0m\u001b[0m\n\u001b[0;32m--> 904\u001b[0;31m                 \u001b[0;32mraise\u001b[0m \u001b[0mKeyboardInterrupt\u001b[0m\u001b[0;34m(\u001b[0m\u001b[0;34m\"Interrupted by user\"\u001b[0m\u001b[0;34m)\u001b[0m \u001b[0;32mfrom\u001b[0m \u001b[0;32mNone\u001b[0m\u001b[0;34m\u001b[0m\u001b[0;34m\u001b[0m\u001b[0m\n\u001b[0m\u001b[1;32m    905\u001b[0m             \u001b[0;32mexcept\u001b[0m \u001b[0mException\u001b[0m \u001b[0;32mas\u001b[0m \u001b[0me\u001b[0m\u001b[0;34m:\u001b[0m\u001b[0;34m\u001b[0m\u001b[0;34m\u001b[0m\u001b[0m\n\u001b[1;32m    906\u001b[0m                 \u001b[0mself\u001b[0m\u001b[0;34m.\u001b[0m\u001b[0mlog\u001b[0m\u001b[0;34m.\u001b[0m\u001b[0mwarning\u001b[0m\u001b[0;34m(\u001b[0m\u001b[0;34m\"Invalid Message:\"\u001b[0m\u001b[0;34m,\u001b[0m \u001b[0mexc_info\u001b[0m\u001b[0;34m=\u001b[0m\u001b[0;32mTrue\u001b[0m\u001b[0;34m)\u001b[0m\u001b[0;34m\u001b[0m\u001b[0;34m\u001b[0m\u001b[0m\n",
      "\u001b[0;31mKeyboardInterrupt\u001b[0m: Interrupted by user"
     ]
    }
   ],
   "source": [
    "SE.interface()"
   ]
  }
 ],
 "metadata": {
  "accelerator": "GPU",
  "colab": {
   "collapsed_sections": [],
   "name": "Code.ipynb",
   "provenance": [],
   "toc_visible": true
  },
  "kernelspec": {
   "display_name": "Python 3",
   "language": "python",
   "name": "python3"
  },
  "language_info": {
   "codemirror_mode": {
    "name": "ipython",
    "version": 3
   },
   "file_extension": ".py",
   "mimetype": "text/x-python",
   "name": "python",
   "nbconvert_exporter": "python",
   "pygments_lexer": "ipython3",
   "version": "3.8.2"
  }
 },
 "nbformat": 4,
 "nbformat_minor": 1
}
