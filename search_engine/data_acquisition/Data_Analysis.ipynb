{
 "cells": [
  {
   "cell_type": "markdown",
   "metadata": {},
   "source": [
    "# Data Analysis\n",
    "In this script we analyze simple statistics of the final corpus."
   ]
  },
  {
   "cell_type": "markdown",
   "metadata": {},
   "source": [
    "---\n",
    "### Important note\n",
    "\n",
    "#### Download required files stored in Google Drive\n",
    "This script requires the file `hydrated_tweets.json` that can be downloaded from the Google Drive Folder (`https://drive.google.com/drive/u/1/folders/16I4_ZCre59ufD9lDZbFK9cn1mALRmPjB`). The file must be stored in the `~/data` folder as specified in the README.\n",
    "\n",
    "---"
   ]
  },
  {
   "cell_type": "code",
   "execution_count": 1,
   "metadata": {},
   "outputs": [],
   "source": [
    "# We specify the path for importing modules\n",
    "import sys\n",
    "sys.path.append('../')"
   ]
  },
  {
   "cell_type": "code",
   "execution_count": 2,
   "metadata": {},
   "outputs": [],
   "source": [
    "import numpy as np\n",
    "import pandas as pd\n",
    "import matplotlib.pyplot as plt\n",
    "import os\n",
    "import json"
   ]
  },
  {
   "cell_type": "code",
   "execution_count": 3,
   "metadata": {},
   "outputs": [],
   "source": [
    "# Read json data from the tweets\n",
    "input_path = '../../data/'\n",
    "input_filename = 'hydrated_tweets.json'"
   ]
  },
  {
   "cell_type": "code",
   "execution_count": 4,
   "metadata": {},
   "outputs": [],
   "source": [
    "# Generate a dataframe\n",
    "df_tweets = pd.read_json(input_path + input_filename)"
   ]
  },
  {
   "cell_type": "code",
   "execution_count": 5,
   "metadata": {},
   "outputs": [
    {
     "data": {
      "text/html": [
       "<div>\n",
       "<style scoped>\n",
       "    .dataframe tbody tr th:only-of-type {\n",
       "        vertical-align: middle;\n",
       "    }\n",
       "\n",
       "    .dataframe tbody tr th {\n",
       "        vertical-align: top;\n",
       "    }\n",
       "\n",
       "    .dataframe thead th {\n",
       "        text-align: right;\n",
       "    }\n",
       "</style>\n",
       "<table border=\"1\" class=\"dataframe\">\n",
       "  <thead>\n",
       "    <tr style=\"text-align: right;\">\n",
       "      <th></th>\n",
       "      <th>created_at</th>\n",
       "      <th>id</th>\n",
       "      <th>id_str</th>\n",
       "      <th>full_text</th>\n",
       "      <th>truncated</th>\n",
       "      <th>display_text_range</th>\n",
       "      <th>entities</th>\n",
       "      <th>source</th>\n",
       "      <th>in_reply_to_status_id</th>\n",
       "      <th>in_reply_to_status_id_str</th>\n",
       "      <th>...</th>\n",
       "      <th>favorited</th>\n",
       "      <th>retweeted</th>\n",
       "      <th>possibly_sensitive</th>\n",
       "      <th>lang</th>\n",
       "      <th>extended_entities</th>\n",
       "      <th>quoted_status_id</th>\n",
       "      <th>quoted_status_id_str</th>\n",
       "      <th>quoted_status_permalink</th>\n",
       "      <th>quoted_status</th>\n",
       "      <th>withheld_in_countries</th>\n",
       "    </tr>\n",
       "  </thead>\n",
       "  <tbody>\n",
       "    <tr>\n",
       "      <th>0</th>\n",
       "      <td>2020-11-19 15:32:48+00:00</td>\n",
       "      <td>1329447539595227137</td>\n",
       "      <td>1329447539595227136</td>\n",
       "      <td>How Amazon and COVID-19 influence 2020 seasona...</td>\n",
       "      <td>False</td>\n",
       "      <td>[0, 85]</td>\n",
       "      <td>{'hashtags': [], 'symbols': [], 'user_mentions...</td>\n",
       "      <td>&lt;a href=\"https://amplifr.com\" rel=\"nofollow\"&gt;A...</td>\n",
       "      <td>NaN</td>\n",
       "      <td>NaN</td>\n",
       "      <td>...</td>\n",
       "      <td>False</td>\n",
       "      <td>False</td>\n",
       "      <td>0.0</td>\n",
       "      <td>en</td>\n",
       "      <td>NaN</td>\n",
       "      <td>NaN</td>\n",
       "      <td>NaN</td>\n",
       "      <td>NaN</td>\n",
       "      <td>NaN</td>\n",
       "      <td>NaN</td>\n",
       "    </tr>\n",
       "    <tr>\n",
       "      <th>1</th>\n",
       "      <td>2020-11-19 15:32:48+00:00</td>\n",
       "      <td>1329447539658149888</td>\n",
       "      <td>1329447539658149888</td>\n",
       "      <td>Wow the U.S. already hit 250k+ deaths with COV...</td>\n",
       "      <td>False</td>\n",
       "      <td>[0, 276]</td>\n",
       "      <td>{'hashtags': [], 'symbols': [], 'user_mentions...</td>\n",
       "      <td>&lt;a href=\"http://twitter.com/download/iphone\" r...</td>\n",
       "      <td>NaN</td>\n",
       "      <td>NaN</td>\n",
       "      <td>...</td>\n",
       "      <td>False</td>\n",
       "      <td>False</td>\n",
       "      <td>NaN</td>\n",
       "      <td>en</td>\n",
       "      <td>NaN</td>\n",
       "      <td>NaN</td>\n",
       "      <td>NaN</td>\n",
       "      <td>NaN</td>\n",
       "      <td>NaN</td>\n",
       "      <td>NaN</td>\n",
       "    </tr>\n",
       "    <tr>\n",
       "      <th>2</th>\n",
       "      <td>2020-11-19 15:32:48+00:00</td>\n",
       "      <td>1329447542212452352</td>\n",
       "      <td>1329447542212452352</td>\n",
       "      <td>Meanwhile, Air Canada is booking flights from ...</td>\n",
       "      <td>False</td>\n",
       "      <td>[0, 118]</td>\n",
       "      <td>{'hashtags': [{'text': 'RDU', 'indices': [46, ...</td>\n",
       "      <td>&lt;a href=\"https://mobile.twitter.com\" rel=\"nofo...</td>\n",
       "      <td>NaN</td>\n",
       "      <td>NaN</td>\n",
       "      <td>...</td>\n",
       "      <td>False</td>\n",
       "      <td>False</td>\n",
       "      <td>0.0</td>\n",
       "      <td>en</td>\n",
       "      <td>NaN</td>\n",
       "      <td>NaN</td>\n",
       "      <td>NaN</td>\n",
       "      <td>NaN</td>\n",
       "      <td>NaN</td>\n",
       "      <td>NaN</td>\n",
       "    </tr>\n",
       "    <tr>\n",
       "      <th>3</th>\n",
       "      <td>2020-11-19 15:32:48+00:00</td>\n",
       "      <td>1329447542405406721</td>\n",
       "      <td>1329447542405406720</td>\n",
       "      <td>@JMinnga @CNNnewsroom @jaketapper @CNN This wo...</td>\n",
       "      <td>False</td>\n",
       "      <td>[39, 165]</td>\n",
       "      <td>{'hashtags': [], 'symbols': [], 'user_mentions...</td>\n",
       "      <td>&lt;a href=\"http://twitter.com/download/iphone\" r...</td>\n",
       "      <td>1.329444e+18</td>\n",
       "      <td>1.329444e+18</td>\n",
       "      <td>...</td>\n",
       "      <td>False</td>\n",
       "      <td>False</td>\n",
       "      <td>NaN</td>\n",
       "      <td>en</td>\n",
       "      <td>NaN</td>\n",
       "      <td>NaN</td>\n",
       "      <td>NaN</td>\n",
       "      <td>NaN</td>\n",
       "      <td>NaN</td>\n",
       "      <td>NaN</td>\n",
       "    </tr>\n",
       "    <tr>\n",
       "      <th>4</th>\n",
       "      <td>2020-11-19 15:32:49+00:00</td>\n",
       "      <td>1329447545320443904</td>\n",
       "      <td>1329447545320443904</td>\n",
       "      <td>@ScottinBayV To believe what these outliers in...</td>\n",
       "      <td>False</td>\n",
       "      <td>[13, 168]</td>\n",
       "      <td>{'hashtags': [], 'symbols': [], 'user_mentions...</td>\n",
       "      <td>&lt;a href=\"http://twitter.com/download/android\" ...</td>\n",
       "      <td>1.329400e+18</td>\n",
       "      <td>1.329400e+18</td>\n",
       "      <td>...</td>\n",
       "      <td>False</td>\n",
       "      <td>False</td>\n",
       "      <td>NaN</td>\n",
       "      <td>en</td>\n",
       "      <td>NaN</td>\n",
       "      <td>NaN</td>\n",
       "      <td>NaN</td>\n",
       "      <td>NaN</td>\n",
       "      <td>NaN</td>\n",
       "      <td>NaN</td>\n",
       "    </tr>\n",
       "  </tbody>\n",
       "</table>\n",
       "<p>5 rows × 31 columns</p>\n",
       "</div>"
      ],
      "text/plain": [
       "                 created_at                   id               id_str  \\\n",
       "0 2020-11-19 15:32:48+00:00  1329447539595227137  1329447539595227136   \n",
       "1 2020-11-19 15:32:48+00:00  1329447539658149888  1329447539658149888   \n",
       "2 2020-11-19 15:32:48+00:00  1329447542212452352  1329447542212452352   \n",
       "3 2020-11-19 15:32:48+00:00  1329447542405406721  1329447542405406720   \n",
       "4 2020-11-19 15:32:49+00:00  1329447545320443904  1329447545320443904   \n",
       "\n",
       "                                           full_text  truncated  \\\n",
       "0  How Amazon and COVID-19 influence 2020 seasona...      False   \n",
       "1  Wow the U.S. already hit 250k+ deaths with COV...      False   \n",
       "2  Meanwhile, Air Canada is booking flights from ...      False   \n",
       "3  @JMinnga @CNNnewsroom @jaketapper @CNN This wo...      False   \n",
       "4  @ScottinBayV To believe what these outliers in...      False   \n",
       "\n",
       "  display_text_range                                           entities  \\\n",
       "0            [0, 85]  {'hashtags': [], 'symbols': [], 'user_mentions...   \n",
       "1           [0, 276]  {'hashtags': [], 'symbols': [], 'user_mentions...   \n",
       "2           [0, 118]  {'hashtags': [{'text': 'RDU', 'indices': [46, ...   \n",
       "3          [39, 165]  {'hashtags': [], 'symbols': [], 'user_mentions...   \n",
       "4          [13, 168]  {'hashtags': [], 'symbols': [], 'user_mentions...   \n",
       "\n",
       "                                              source  in_reply_to_status_id  \\\n",
       "0  <a href=\"https://amplifr.com\" rel=\"nofollow\">A...                    NaN   \n",
       "1  <a href=\"http://twitter.com/download/iphone\" r...                    NaN   \n",
       "2  <a href=\"https://mobile.twitter.com\" rel=\"nofo...                    NaN   \n",
       "3  <a href=\"http://twitter.com/download/iphone\" r...           1.329444e+18   \n",
       "4  <a href=\"http://twitter.com/download/android\" ...           1.329400e+18   \n",
       "\n",
       "   in_reply_to_status_id_str  ...  favorited  retweeted possibly_sensitive  \\\n",
       "0                        NaN  ...      False      False                0.0   \n",
       "1                        NaN  ...      False      False                NaN   \n",
       "2                        NaN  ...      False      False                0.0   \n",
       "3               1.329444e+18  ...      False      False                NaN   \n",
       "4               1.329400e+18  ...      False      False                NaN   \n",
       "\n",
       "  lang extended_entities quoted_status_id quoted_status_id_str  \\\n",
       "0   en               NaN              NaN                  NaN   \n",
       "1   en               NaN              NaN                  NaN   \n",
       "2   en               NaN              NaN                  NaN   \n",
       "3   en               NaN              NaN                  NaN   \n",
       "4   en               NaN              NaN                  NaN   \n",
       "\n",
       "   quoted_status_permalink  quoted_status  withheld_in_countries  \n",
       "0                      NaN            NaN                    NaN  \n",
       "1                      NaN            NaN                    NaN  \n",
       "2                      NaN            NaN                    NaN  \n",
       "3                      NaN            NaN                    NaN  \n",
       "4                      NaN            NaN                    NaN  \n",
       "\n",
       "[5 rows x 31 columns]"
      ]
     },
     "execution_count": 5,
     "metadata": {},
     "output_type": "execute_result"
    }
   ],
   "source": [
    "df_tweets.head()"
   ]
  },
  {
   "cell_type": "code",
   "execution_count": 6,
   "metadata": {},
   "outputs": [
    {
     "name": "stdout",
     "output_type": "stream",
     "text": [
      "We have 96359 tweets.\n"
     ]
    }
   ],
   "source": [
    "print(\"We have {} tweets.\".format(len(df_tweets)))"
   ]
  },
  {
   "cell_type": "markdown",
   "metadata": {},
   "source": [
    "# Users analysis"
   ]
  },
  {
   "cell_type": "code",
   "execution_count": 7,
   "metadata": {},
   "outputs": [],
   "source": [
    "def extract_user(user):\n",
    "    return user['id_str']"
   ]
  },
  {
   "cell_type": "code",
   "execution_count": 10,
   "metadata": {},
   "outputs": [],
   "source": [
    "def extract_followers(user):\n",
    "    return user['followers_count']"
   ]
  },
  {
   "cell_type": "code",
   "execution_count": 11,
   "metadata": {},
   "outputs": [],
   "source": [
    "df_tweets['user_id'] = df_tweets.user.apply(extract_user)\n",
    "df_tweets['followers_count'] = df_tweets.user.apply(extract_followers)"
   ]
  },
  {
   "cell_type": "code",
   "execution_count": 13,
   "metadata": {},
   "outputs": [
    {
     "name": "stdout",
     "output_type": "stream",
     "text": [
      "There are 76905 unique users\n"
     ]
    }
   ],
   "source": [
    "print(\"There are {} unique users\".format(len(df_tweets['user_id'].unique())))"
   ]
  },
  {
   "cell_type": "code",
   "execution_count": 32,
   "metadata": {},
   "outputs": [],
   "source": [
    "tweets_per_user = df_tweets['user_id'].value_counts().values"
   ]
  },
  {
   "cell_type": "code",
   "execution_count": 15,
   "metadata": {},
   "outputs": [
    {
     "data": {
      "text/plain": [
       "array([128,  94,  73, ...,   1,   1,   1])"
      ]
     },
     "execution_count": 15,
     "metadata": {},
     "output_type": "execute_result"
    }
   ],
   "source": [
    "tweets_per_user"
   ]
  },
  {
   "cell_type": "code",
   "execution_count": 16,
   "metadata": {},
   "outputs": [
    {
     "data": {
      "image/png": "[encoded data removed]",
      "text/plain": [
       "<Figure size 432x288 with 1 Axes>"
      ]
     },
     "metadata": {
      "needs_background": "light"
     },
     "output_type": "display_data"
    }
   ],
   "source": [
    "plt.hist(tweets_per_user, bins = 100)\n",
    "plt.title('Number of tweets per user')\n",
    "plt.xlabel('Number of tweets')\n",
    "plt.ylabel('Frequency')\n",
    "plt.show()"
   ]
  },
  {
   "cell_type": "code",
   "execution_count": 17,
   "metadata": {},
   "outputs": [
    {
     "data": {
      "image/png": "[encoded data removed]",
      "text/plain": [
       "<Figure size 432x288 with 1 Axes>"
      ]
     },
     "metadata": {
      "needs_background": "light"
     },
     "output_type": "display_data"
    }
   ],
   "source": [
    "plt.boxplot(tweets_per_user)\n",
    "plt.title('Number of tweets per user')\n",
    "plt.ylabel('Number of tweets')\n",
    "plt.show()"
   ]
  },
  {
   "cell_type": "code",
   "execution_count": 18,
   "metadata": {},
   "outputs": [
    {
     "name": "stdout",
     "output_type": "stream",
     "text": [
      "Average tweets per user = 1.2529614459397957\n"
     ]
    }
   ],
   "source": [
    "print('Average tweets per user = {}'.format(tweets_per_user.mean()))"
   ]
  },
  {
   "cell_type": "code",
   "execution_count": 19,
   "metadata": {},
   "outputs": [
    {
     "name": "stdout",
     "output_type": "stream",
     "text": [
      "Median tweets per user = 1.0\n"
     ]
    }
   ],
   "source": [
    "print('Median tweets per user = {}'.format(np.median(tweets_per_user)))"
   ]
  },
  {
   "cell_type": "code",
   "execution_count": 20,
   "metadata": {},
   "outputs": [
    {
     "name": "stdout",
     "output_type": "stream",
     "text": [
      "Maximum tweets per user = 128\n"
     ]
    }
   ],
   "source": [
    "print('Maximum tweets per user = {}'.format(tweets_per_user.max()))"
   ]
  },
  {
   "cell_type": "code",
   "execution_count": 34,
   "metadata": {},
   "outputs": [],
   "source": [
    "# Take unique followers for each user (get maximum value)\n",
    "followers = df_tweets.groupby(['user_id'], sort=False)['followers_count'].max()"
   ]
  },
  {
   "cell_type": "code",
   "execution_count": 35,
   "metadata": {},
   "outputs": [
    {
     "data": {
      "text/plain": [
       "user_id\n",
       "50654874               3258\n",
       "762837810793459712      455\n",
       "305014668              1013\n",
       "849821088825716737      192\n",
       "4270465462              119\n",
       "                       ... \n",
       "963896581777952772      671\n",
       "862615902              5212\n",
       "1026516459411918849     961\n",
       "877286680314642432      293\n",
       "759126756003577857      193\n",
       "Name: followers_count, Length: 76905, dtype: int64"
      ]
     },
     "execution_count": 35,
     "metadata": {},
     "output_type": "execute_result"
    }
   ],
   "source": [
    "followers"
   ]
  },
  {
   "cell_type": "code",
   "execution_count": 36,
   "metadata": {},
   "outputs": [],
   "source": [
    "followers = followers.values"
   ]
  },
  {
   "cell_type": "code",
   "execution_count": 37,
   "metadata": {},
   "outputs": [
    {
     "name": "stdout",
     "output_type": "stream",
     "text": [
      "Average followers per user = 18237.12821012938\n"
     ]
    }
   ],
   "source": [
    "print('Average followers per user = {}'.format(followers.mean()))"
   ]
  },
  {
   "cell_type": "code",
   "execution_count": 38,
   "metadata": {},
   "outputs": [
    {
     "name": "stdout",
     "output_type": "stream",
     "text": [
      "Median followers per user = 435.0\n"
     ]
    }
   ],
   "source": [
    "print('Median followers per user = {}'.format(np.median(followers)))"
   ]
  },
  {
   "cell_type": "code",
   "execution_count": 39,
   "metadata": {},
   "outputs": [
    {
     "name": "stdout",
     "output_type": "stream",
     "text": [
      "Maximum followers per user = 88870927\n"
     ]
    }
   ],
   "source": [
    "print('Maximum followers per user = {}'.format(followers.max()))"
   ]
  },
  {
   "cell_type": "code",
   "execution_count": 40,
   "metadata": {},
   "outputs": [
    {
     "data": {
      "text/html": [
       "<div>\n",
       "<style scoped>\n",
       "    .dataframe tbody tr th:only-of-type {\n",
       "        vertical-align: middle;\n",
       "    }\n",
       "\n",
       "    .dataframe tbody tr th {\n",
       "        vertical-align: top;\n",
       "    }\n",
       "\n",
       "    .dataframe thead th {\n",
       "        text-align: right;\n",
       "    }\n",
       "</style>\n",
       "<table border=\"1\" class=\"dataframe\">\n",
       "  <thead>\n",
       "    <tr style=\"text-align: right;\">\n",
       "      <th></th>\n",
       "      <th>created_at</th>\n",
       "      <th>id</th>\n",
       "      <th>id_str</th>\n",
       "      <th>full_text</th>\n",
       "      <th>truncated</th>\n",
       "      <th>display_text_range</th>\n",
       "      <th>entities</th>\n",
       "      <th>source</th>\n",
       "      <th>in_reply_to_status_id</th>\n",
       "      <th>in_reply_to_status_id_str</th>\n",
       "      <th>...</th>\n",
       "      <th>possibly_sensitive</th>\n",
       "      <th>lang</th>\n",
       "      <th>extended_entities</th>\n",
       "      <th>quoted_status_id</th>\n",
       "      <th>quoted_status_id_str</th>\n",
       "      <th>quoted_status_permalink</th>\n",
       "      <th>quoted_status</th>\n",
       "      <th>withheld_in_countries</th>\n",
       "      <th>user_id</th>\n",
       "      <th>followers_count</th>\n",
       "    </tr>\n",
       "  </thead>\n",
       "  <tbody>\n",
       "    <tr>\n",
       "      <th>41077</th>\n",
       "      <td>2020-11-19 16:36:58+00:00</td>\n",
       "      <td>1329463691205627910</td>\n",
       "      <td>1329463691205627904</td>\n",
       "      <td>THE COVID DRUGS NOW AVAILABLE TO MAKE PEOPLE B...</td>\n",
       "      <td>False</td>\n",
       "      <td>[0, 130]</td>\n",
       "      <td>{'hashtags': [], 'symbols': [], 'user_mentions...</td>\n",
       "      <td>&lt;a href=\"http://twitter.com/download/iphone\" r...</td>\n",
       "      <td>NaN</td>\n",
       "      <td>NaN</td>\n",
       "      <td>...</td>\n",
       "      <td>NaN</td>\n",
       "      <td>en</td>\n",
       "      <td>NaN</td>\n",
       "      <td>NaN</td>\n",
       "      <td>NaN</td>\n",
       "      <td>NaN</td>\n",
       "      <td>NaN</td>\n",
       "      <td>NaN</td>\n",
       "      <td>25073877</td>\n",
       "      <td>88870927</td>\n",
       "    </tr>\n",
       "  </tbody>\n",
       "</table>\n",
       "<p>1 rows × 33 columns</p>\n",
       "</div>"
      ],
      "text/plain": [
       "                     created_at                   id               id_str  \\\n",
       "41077 2020-11-19 16:36:58+00:00  1329463691205627910  1329463691205627904   \n",
       "\n",
       "                                               full_text  truncated  \\\n",
       "41077  THE COVID DRUGS NOW AVAILABLE TO MAKE PEOPLE B...      False   \n",
       "\n",
       "      display_text_range                                           entities  \\\n",
       "41077           [0, 130]  {'hashtags': [], 'symbols': [], 'user_mentions...   \n",
       "\n",
       "                                                  source  \\\n",
       "41077  <a href=\"http://twitter.com/download/iphone\" r...   \n",
       "\n",
       "       in_reply_to_status_id  in_reply_to_status_id_str  ...  \\\n",
       "41077                    NaN                        NaN  ...   \n",
       "\n",
       "       possibly_sensitive  lang extended_entities quoted_status_id  \\\n",
       "41077                 NaN    en               NaN              NaN   \n",
       "\n",
       "      quoted_status_id_str quoted_status_permalink quoted_status  \\\n",
       "41077                  NaN                     NaN           NaN   \n",
       "\n",
       "       withheld_in_countries   user_id  followers_count  \n",
       "41077                    NaN  25073877         88870927  \n",
       "\n",
       "[1 rows x 33 columns]"
      ]
     },
     "execution_count": 40,
     "metadata": {},
     "output_type": "execute_result"
    }
   ],
   "source": [
    "df_tweets[df_tweets['followers_count'] == 88870927]"
   ]
  },
  {
   "cell_type": "markdown",
   "metadata": {},
   "source": [
    "This user is @realDonaldTrump!"
   ]
  },
  {
   "cell_type": "code",
   "execution_count": 45,
   "metadata": {},
   "outputs": [
    {
     "data": {
      "image/png": "[encoded data removed]",
      "text/plain": [
       "<Figure size 1080x720 with 1 Axes>"
      ]
     },
     "metadata": {
      "needs_background": "light"
     },
     "output_type": "display_data"
    }
   ],
   "source": [
    "plt.figure(figsize=(15,10))\n",
    "plt.hist(followers, bins = 300)\n",
    "plt.title('Number of followers per user')\n",
    "plt.xlabel('Number of followers')\n",
    "plt.ylabel('Frequency')\n",
    "plt.show()"
   ]
  },
  {
   "cell_type": "code",
   "execution_count": 46,
   "metadata": {},
   "outputs": [
    {
     "data": {
      "image/png": "[encoded data removed]",
      "text/plain": [
       "<Figure size 432x288 with 1 Axes>"
      ]
     },
     "metadata": {
      "needs_background": "light"
     },
     "output_type": "display_data"
    }
   ],
   "source": [
    "plt.boxplot(followers)\n",
    "plt.title('Number of followers per user')\n",
    "plt.ylabel('Number of followers')\n",
    "plt.show()"
   ]
  },
  {
   "cell_type": "markdown",
   "metadata": {},
   "source": [
    "# Interactions analysis"
   ]
  },
  {
   "cell_type": "code",
   "execution_count": 21,
   "metadata": {},
   "outputs": [],
   "source": [
    "retweets = df_tweets['retweet_count'].values\n",
    "favs = df_tweets['favorite_count'].values"
   ]
  },
  {
   "cell_type": "code",
   "execution_count": 22,
   "metadata": {},
   "outputs": [
    {
     "data": {
      "image/png": "[encoded data removed]",
      "text/plain": [
       "<Figure size 432x288 with 1 Axes>"
      ]
     },
     "metadata": {
      "needs_background": "light"
     },
     "output_type": "display_data"
    }
   ],
   "source": [
    "plt.hist(retweets, bins = 100)\n",
    "plt.title('Number of retweets per tweet')\n",
    "plt.xlabel('Number of retweets')\n",
    "plt.ylabel('Frequency')\n",
    "plt.show()"
   ]
  },
  {
   "cell_type": "code",
   "execution_count": 23,
   "metadata": {},
   "outputs": [
    {
     "data": {
      "image/png": "[encoded data removed]",
      "text/plain": [
       "<Figure size 432x288 with 1 Axes>"
      ]
     },
     "metadata": {
      "needs_background": "light"
     },
     "output_type": "display_data"
    }
   ],
   "source": [
    "plt.boxplot(retweets)\n",
    "plt.title('Number of retweets per tweet')\n",
    "plt.ylabel('Number of retweets')\n",
    "plt.show()"
   ]
  },
  {
   "cell_type": "code",
   "execution_count": 24,
   "metadata": {},
   "outputs": [
    {
     "data": {
      "image/png": "[encoded data removed]",
      "text/plain": [
       "<Figure size 432x288 with 1 Axes>"
      ]
     },
     "metadata": {
      "needs_background": "light"
     },
     "output_type": "display_data"
    }
   ],
   "source": [
    "plt.hist(favs, bins = 100)\n",
    "plt.title('Number of favorites per tweet')\n",
    "plt.xlabel('Number of favorites')\n",
    "plt.ylabel('Frequency')\n",
    "plt.show()"
   ]
  },
  {
   "cell_type": "code",
   "execution_count": 25,
   "metadata": {},
   "outputs": [
    {
     "data": {
      "image/png": "[encoded data removed]",
      "text/plain": [
       "<Figure size 432x288 with 1 Axes>"
      ]
     },
     "metadata": {
      "needs_background": "light"
     },
     "output_type": "display_data"
    }
   ],
   "source": [
    "plt.boxplot(favs)\n",
    "plt.title('Number of favorites per tweet')\n",
    "plt.ylabel('Number of favorites')\n",
    "plt.show()"
   ]
  },
  {
   "cell_type": "code",
   "execution_count": 26,
   "metadata": {},
   "outputs": [
    {
     "name": "stdout",
     "output_type": "stream",
     "text": [
      "Average retweets per tweet = 2.2420635332454673\n"
     ]
    }
   ],
   "source": [
    "print('Average retweets per tweet = {}'.format(retweets.mean()))"
   ]
  },
  {
   "cell_type": "code",
   "execution_count": 27,
   "metadata": {},
   "outputs": [
    {
     "name": "stdout",
     "output_type": "stream",
     "text": [
      "Median retweets per tweet = 0.0\n"
     ]
    }
   ],
   "source": [
    "print('Median retweets per tweet = {}'.format(np.median(retweets)))"
   ]
  },
  {
   "cell_type": "code",
   "execution_count": 28,
   "metadata": {},
   "outputs": [
    {
     "name": "stdout",
     "output_type": "stream",
     "text": [
      "Maximum retweets per tweet = 45969\n"
     ]
    }
   ],
   "source": [
    "print('Maximum retweets per tweet = {}'.format(retweets.max()))"
   ]
  },
  {
   "cell_type": "code",
   "execution_count": 29,
   "metadata": {},
   "outputs": [
    {
     "name": "stdout",
     "output_type": "stream",
     "text": [
      "Average favorites per tweet = 11.9267427017715\n"
     ]
    }
   ],
   "source": [
    "print('Average favorites per tweet = {}'.format(favs.mean()))"
   ]
  },
  {
   "cell_type": "code",
   "execution_count": 30,
   "metadata": {},
   "outputs": [
    {
     "name": "stdout",
     "output_type": "stream",
     "text": [
      "Median favorites per tweet = 0.0\n"
     ]
    }
   ],
   "source": [
    "print('Median favorites per tweet = {}'.format(np.median(favs)))"
   ]
  },
  {
   "cell_type": "code",
   "execution_count": 31,
   "metadata": {},
   "outputs": [
    {
     "name": "stdout",
     "output_type": "stream",
     "text": [
      "Maximum favorites per tweet = 258585\n"
     ]
    }
   ],
   "source": [
    "print('Maximum favorites per tweet = {}'.format(favs.max()))"
   ]
  }
 ],
 "metadata": {
  "kernelspec": {
   "display_name": "Python 3",
   "language": "python",
   "name": "python3"
  }
 },
 "nbformat": 4,
 "nbformat_minor": 4
}
