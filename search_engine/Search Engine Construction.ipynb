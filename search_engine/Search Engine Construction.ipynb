{
 "cells": [
  {
   "cell_type": "code",
   "execution_count": 2,
   "metadata": {
    "colab": {
     "base_uri": "https://localhost:8080/"
    },
    "executionInfo": {
     "elapsed": 862,
     "status": "ok",
     "timestamp": 1607422891332,
     "user": {
      "displayName": "JAVIER RANDO",
      "photoUrl": "https://lh3.googleusercontent.com/a-/AOh14GiNPaYf78UhV7NkeRoHbkKX8Kt0UJY7GUBA6fN9TQ=s64",
      "userId": "02059478865524595396"
     },
     "user_tz": -60
    },
    "id": "GMv7w01T1bk9",
    "outputId": "968837f6-663c-44ea-9290-bdcac6ee78a8"
   },
   "outputs": [],
   "source": [
    "import numpy as np\n",
    "import pandas as pd\n",
    "import matplotlib.pyplot as plt\n",
    "import os\n",
    "import json\n",
    "from utils import clean_text, personalized_tokenizer"
   ]
  },
  {
   "cell_type": "code",
   "execution_count": 50,
   "metadata": {},
   "outputs": [
    {
     "name": "stdout",
     "output_type": "stream",
     "text": [
      "--2020-12-08 15:51:39--  https://docs.google.com/uc?export=download&confirm=JDW8&id=16SdNcvSv5vMSVWhiMqTvPv4_fTUbRT0Y\n",
      "Resolving docs.google.com (docs.google.com)... 216.58.211.46\n",
      "Connecting to docs.google.com (docs.google.com)|216.58.211.46|:443... connected.\n",
      "HTTP request sent, awaiting response... 302 Moved Temporarily\n",
      "Location: https://doc-04-2s-docs.googleusercontent.com/docs/securesc/2nvc3l0rfoa5sj8hrglrelad8phaqmqh/qhi8ojpfmsl3v6ipkrn595besr4ju8qh/1607439075000/14495060654406130325/15548235679540006322Z/16SdNcvSv5vMSVWhiMqTvPv4_fTUbRT0Y?e=download [following]\n",
      "--2020-12-08 15:51:39--  https://doc-04-2s-docs.googleusercontent.com/docs/securesc/2nvc3l0rfoa5sj8hrglrelad8phaqmqh/qhi8ojpfmsl3v6ipkrn595besr4ju8qh/1607439075000/14495060654406130325/15548235679540006322Z/16SdNcvSv5vMSVWhiMqTvPv4_fTUbRT0Y?e=download\n",
      "Resolving doc-04-2s-docs.googleusercontent.com (doc-04-2s-docs.googleusercontent.com)... 216.58.201.161\n",
      "Connecting to doc-04-2s-docs.googleusercontent.com (doc-04-2s-docs.googleusercontent.com)|216.58.201.161|:443... connected.\n",
      "HTTP request sent, awaiting response... 302 Found\n",
      "Location: https://docs.google.com/nonceSigner?nonce=ls02sb0652uuk&continue=https://doc-04-2s-docs.googleusercontent.com/docs/securesc/2nvc3l0rfoa5sj8hrglrelad8phaqmqh/qhi8ojpfmsl3v6ipkrn595besr4ju8qh/1607439075000/14495060654406130325/15548235679540006322Z/16SdNcvSv5vMSVWhiMqTvPv4_fTUbRT0Y?e%3Ddownload&hash=4gj1gupqr9bnusc3g97ihnbes1j07e1t [following]\n",
      "--2020-12-08 15:51:39--  https://docs.google.com/nonceSigner?nonce=ls02sb0652uuk&continue=https://doc-04-2s-docs.googleusercontent.com/docs/securesc/2nvc3l0rfoa5sj8hrglrelad8phaqmqh/qhi8ojpfmsl3v6ipkrn595besr4ju8qh/1607439075000/14495060654406130325/15548235679540006322Z/16SdNcvSv5vMSVWhiMqTvPv4_fTUbRT0Y?e%3Ddownload&hash=4gj1gupqr9bnusc3g97ihnbes1j07e1t\n",
      "Connecting to docs.google.com (docs.google.com)|216.58.211.46|:443... connected.\n",
      "HTTP request sent, awaiting response... 302 Found\n",
      "Location: https://doc-04-2s-docs.googleusercontent.com/docs/securesc/2nvc3l0rfoa5sj8hrglrelad8phaqmqh/qhi8ojpfmsl3v6ipkrn595besr4ju8qh/1607439075000/14495060654406130325/15548235679540006322Z/16SdNcvSv5vMSVWhiMqTvPv4_fTUbRT0Y?e=download&nonce=ls02sb0652uuk&user=15548235679540006322Z&hash=bnbnfuhcahat0c9udi2s04sirb2bdbsl [following]\n",
      "--2020-12-08 15:51:39--  https://doc-04-2s-docs.googleusercontent.com/docs/securesc/2nvc3l0rfoa5sj8hrglrelad8phaqmqh/qhi8ojpfmsl3v6ipkrn595besr4ju8qh/1607439075000/14495060654406130325/15548235679540006322Z/16SdNcvSv5vMSVWhiMqTvPv4_fTUbRT0Y?e=download&nonce=ls02sb0652uuk&user=15548235679540006322Z&hash=bnbnfuhcahat0c9udi2s04sirb2bdbsl\n",
      "Connecting to doc-04-2s-docs.googleusercontent.com (doc-04-2s-docs.googleusercontent.com)|216.58.201.161|:443... connected.\n",
      "HTTP request sent, awaiting response... 200 OK\n",
      "Length: unspecified [application/json]\n",
      "Saving to: ‘hydrated_tweets.json’\n",
      "\n",
      "hydrated_tweets.jso     [   <=>              ] 371,51M  62,1MB/s    in 6,2s    \n",
      "\n",
      "2020-12-08 15:51:46 (59,9 MB/s) - ‘hydrated_tweets.json’ saved [389560331]\n",
      "\n",
      "--2020-12-08 15:51:47--  https://docs.google.com/uc?export=download&confirm=j3h9&id=1YhFADfXR26nTdR6inRu0WFfA-LTgNS7h\n",
      "Resolving docs.google.com (docs.google.com)... 216.58.211.46\n",
      "Connecting to docs.google.com (docs.google.com)|216.58.211.46|:443... connected.\n",
      "HTTP request sent, awaiting response... 302 Moved Temporarily\n",
      "Location: https://doc-0g-28-docs.googleusercontent.com/docs/securesc/upfdnfbevafgvkhrovti9b301rgmkcjs/dh9ofgoduvb49gockgjttmi8iia71gel/1607439075000/02059478865524595396/13673658054134160010Z/1YhFADfXR26nTdR6inRu0WFfA-LTgNS7h?e=download [following]\n",
      "--2020-12-08 15:51:48--  https://doc-0g-28-docs.googleusercontent.com/docs/securesc/upfdnfbevafgvkhrovti9b301rgmkcjs/dh9ofgoduvb49gockgjttmi8iia71gel/1607439075000/02059478865524595396/13673658054134160010Z/1YhFADfXR26nTdR6inRu0WFfA-LTgNS7h?e=download\n",
      "Resolving doc-0g-28-docs.googleusercontent.com (doc-0g-28-docs.googleusercontent.com)... 216.58.211.33\n",
      "Connecting to doc-0g-28-docs.googleusercontent.com (doc-0g-28-docs.googleusercontent.com)|216.58.211.33|:443... connected.\n",
      "HTTP request sent, awaiting response... 302 Found\n",
      "Location: https://docs.google.com/nonceSigner?nonce=s3rsv8q3ndu6k&continue=https://doc-0g-28-docs.googleusercontent.com/docs/securesc/upfdnfbevafgvkhrovti9b301rgmkcjs/dh9ofgoduvb49gockgjttmi8iia71gel/1607439075000/02059478865524595396/13673658054134160010Z/1YhFADfXR26nTdR6inRu0WFfA-LTgNS7h?e%3Ddownload&hash=hbj21tdisaugo700sv5r12ns98vh6u8t [following]\n",
      "--2020-12-08 15:51:48--  https://docs.google.com/nonceSigner?nonce=s3rsv8q3ndu6k&continue=https://doc-0g-28-docs.googleusercontent.com/docs/securesc/upfdnfbevafgvkhrovti9b301rgmkcjs/dh9ofgoduvb49gockgjttmi8iia71gel/1607439075000/02059478865524595396/13673658054134160010Z/1YhFADfXR26nTdR6inRu0WFfA-LTgNS7h?e%3Ddownload&hash=hbj21tdisaugo700sv5r12ns98vh6u8t\n",
      "Connecting to docs.google.com (docs.google.com)|216.58.211.46|:443... connected.\n",
      "HTTP request sent, awaiting response... 302 Found\n",
      "Location: https://doc-0g-28-docs.googleusercontent.com/docs/securesc/upfdnfbevafgvkhrovti9b301rgmkcjs/dh9ofgoduvb49gockgjttmi8iia71gel/1607439075000/02059478865524595396/13673658054134160010Z/1YhFADfXR26nTdR6inRu0WFfA-LTgNS7h?e=download&nonce=s3rsv8q3ndu6k&user=13673658054134160010Z&hash=8b4a8jbgb05crf3ek3vp17nrf19spv62 [following]\n",
      "--2020-12-08 15:51:48--  https://doc-0g-28-docs.googleusercontent.com/docs/securesc/upfdnfbevafgvkhrovti9b301rgmkcjs/dh9ofgoduvb49gockgjttmi8iia71gel/1607439075000/02059478865524595396/13673658054134160010Z/1YhFADfXR26nTdR6inRu0WFfA-LTgNS7h?e=download&nonce=s3rsv8q3ndu6k&user=13673658054134160010Z&hash=8b4a8jbgb05crf3ek3vp17nrf19spv62\n",
      "Connecting to doc-0g-28-docs.googleusercontent.com (doc-0g-28-docs.googleusercontent.com)|216.58.211.33|:443... connected.\n",
      "HTTP request sent, awaiting response... 200 OK\n",
      "Length: unspecified [application/zip]\n",
      "Saving to: ‘tweets_with_authority.csv.zip’\n",
      "\n",
      "tweets_with_authori     [     <=>            ]  61,60M  61,3MB/s    in 1,0s    \n",
      "\n",
      "2020-12-08 15:51:50 (61,3 MB/s) - ‘tweets_with_authority.csv.zip’ saved [64592239]\n",
      "\n"
     ]
    }
   ],
   "source": [
    "#Download required data stored in Google Drive\n",
    "!wget --load-cookies /tmp/cookies.txt \"https://docs.google.com/uc?export=download&confirm=$(wget --quiet --save-cookies /tmp/cookies.txt --keep-session-cookies --no-check-certificate 'https://docs.google.com/uc?export=download&id=16SdNcvSv5vMSVWhiMqTvPv4_fTUbRT0Y' -O- | sed -rn 's/.*confirm=([0-9A-Za-z_]+).*/\\1\\n/p')&id=16SdNcvSv5vMSVWhiMqTvPv4_fTUbRT0Y\" -O hydrated_tweets.json && rm -rf /tmp/cookies.txt"
   ]
  },
  {
   "cell_type": "markdown",
   "metadata": {
    "id": "eCPOuIitqc3T"
   },
   "source": [
    "# Loading and Cleaning Dataset\n"
   ]
  },
  {
   "cell_type": "code",
   "execution_count": 51,
   "metadata": {
    "id": "86y9L11U2r4_"
   },
   "outputs": [],
   "source": [
    "# Read json data from the tweets\n",
    "\n",
    "input_path = './'\n",
    "input_filename = 'hydrated_tweets.json'"
   ]
  },
  {
   "cell_type": "code",
   "execution_count": 52,
   "metadata": {
    "id": "W38cwXVX22NL"
   },
   "outputs": [],
   "source": [
    "# Generate a dataframe\n",
    "df_tweets = pd.read_json(input_path + input_filename)"
   ]
  },
  {
   "cell_type": "code",
   "execution_count": 53,
   "metadata": {},
   "outputs": [
    {
     "data": {
      "text/html": [
       "<div>\n",
       "<style scoped>\n",
       "    .dataframe tbody tr th:only-of-type {\n",
       "        vertical-align: middle;\n",
       "    }\n",
       "\n",
       "    .dataframe tbody tr th {\n",
       "        vertical-align: top;\n",
       "    }\n",
       "\n",
       "    .dataframe thead th {\n",
       "        text-align: right;\n",
       "    }\n",
       "</style>\n",
       "<table border=\"1\" class=\"dataframe\">\n",
       "  <thead>\n",
       "    <tr style=\"text-align: right;\">\n",
       "      <th></th>\n",
       "      <th>created_at</th>\n",
       "      <th>id</th>\n",
       "      <th>id_str</th>\n",
       "      <th>full_text</th>\n",
       "      <th>truncated</th>\n",
       "      <th>display_text_range</th>\n",
       "      <th>entities</th>\n",
       "      <th>source</th>\n",
       "      <th>in_reply_to_status_id</th>\n",
       "      <th>in_reply_to_status_id_str</th>\n",
       "      <th>...</th>\n",
       "      <th>favorited</th>\n",
       "      <th>retweeted</th>\n",
       "      <th>possibly_sensitive</th>\n",
       "      <th>lang</th>\n",
       "      <th>extended_entities</th>\n",
       "      <th>quoted_status_id</th>\n",
       "      <th>quoted_status_id_str</th>\n",
       "      <th>quoted_status_permalink</th>\n",
       "      <th>quoted_status</th>\n",
       "      <th>withheld_in_countries</th>\n",
       "    </tr>\n",
       "  </thead>\n",
       "  <tbody>\n",
       "    <tr>\n",
       "      <th>0</th>\n",
       "      <td>2020-11-19 15:32:48+00:00</td>\n",
       "      <td>1329447539595227137</td>\n",
       "      <td>1329447539595227136</td>\n",
       "      <td>How Amazon and COVID-19 influence 2020 seasona...</td>\n",
       "      <td>False</td>\n",
       "      <td>[0, 85]</td>\n",
       "      <td>{'hashtags': [], 'symbols': [], 'user_mentions...</td>\n",
       "      <td>&lt;a href=\"https://amplifr.com\" rel=\"nofollow\"&gt;A...</td>\n",
       "      <td>NaN</td>\n",
       "      <td>NaN</td>\n",
       "      <td>...</td>\n",
       "      <td>False</td>\n",
       "      <td>False</td>\n",
       "      <td>0.0</td>\n",
       "      <td>en</td>\n",
       "      <td>NaN</td>\n",
       "      <td>NaN</td>\n",
       "      <td>NaN</td>\n",
       "      <td>NaN</td>\n",
       "      <td>NaN</td>\n",
       "      <td>NaN</td>\n",
       "    </tr>\n",
       "    <tr>\n",
       "      <th>1</th>\n",
       "      <td>2020-11-19 15:32:48+00:00</td>\n",
       "      <td>1329447539658149888</td>\n",
       "      <td>1329447539658149888</td>\n",
       "      <td>Wow the U.S. already hit 250k+ deaths with COV...</td>\n",
       "      <td>False</td>\n",
       "      <td>[0, 276]</td>\n",
       "      <td>{'hashtags': [], 'symbols': [], 'user_mentions...</td>\n",
       "      <td>&lt;a href=\"http://twitter.com/download/iphone\" r...</td>\n",
       "      <td>NaN</td>\n",
       "      <td>NaN</td>\n",
       "      <td>...</td>\n",
       "      <td>False</td>\n",
       "      <td>False</td>\n",
       "      <td>NaN</td>\n",
       "      <td>en</td>\n",
       "      <td>NaN</td>\n",
       "      <td>NaN</td>\n",
       "      <td>NaN</td>\n",
       "      <td>NaN</td>\n",
       "      <td>NaN</td>\n",
       "      <td>NaN</td>\n",
       "    </tr>\n",
       "    <tr>\n",
       "      <th>2</th>\n",
       "      <td>2020-11-19 15:32:48+00:00</td>\n",
       "      <td>1329447542212452352</td>\n",
       "      <td>1329447542212452352</td>\n",
       "      <td>Meanwhile, Air Canada is booking flights from ...</td>\n",
       "      <td>False</td>\n",
       "      <td>[0, 118]</td>\n",
       "      <td>{'hashtags': [{'text': 'RDU', 'indices': [46, ...</td>\n",
       "      <td>&lt;a href=\"https://mobile.twitter.com\" rel=\"nofo...</td>\n",
       "      <td>NaN</td>\n",
       "      <td>NaN</td>\n",
       "      <td>...</td>\n",
       "      <td>False</td>\n",
       "      <td>False</td>\n",
       "      <td>0.0</td>\n",
       "      <td>en</td>\n",
       "      <td>NaN</td>\n",
       "      <td>NaN</td>\n",
       "      <td>NaN</td>\n",
       "      <td>NaN</td>\n",
       "      <td>NaN</td>\n",
       "      <td>NaN</td>\n",
       "    </tr>\n",
       "    <tr>\n",
       "      <th>3</th>\n",
       "      <td>2020-11-19 15:32:48+00:00</td>\n",
       "      <td>1329447542405406721</td>\n",
       "      <td>1329447542405406720</td>\n",
       "      <td>@JMinnga @CNNnewsroom @jaketapper @CNN This wo...</td>\n",
       "      <td>False</td>\n",
       "      <td>[39, 165]</td>\n",
       "      <td>{'hashtags': [], 'symbols': [], 'user_mentions...</td>\n",
       "      <td>&lt;a href=\"http://twitter.com/download/iphone\" r...</td>\n",
       "      <td>1.329444e+18</td>\n",
       "      <td>1.329444e+18</td>\n",
       "      <td>...</td>\n",
       "      <td>False</td>\n",
       "      <td>False</td>\n",
       "      <td>NaN</td>\n",
       "      <td>en</td>\n",
       "      <td>NaN</td>\n",
       "      <td>NaN</td>\n",
       "      <td>NaN</td>\n",
       "      <td>NaN</td>\n",
       "      <td>NaN</td>\n",
       "      <td>NaN</td>\n",
       "    </tr>\n",
       "    <tr>\n",
       "      <th>4</th>\n",
       "      <td>2020-11-19 15:32:49+00:00</td>\n",
       "      <td>1329447545320443904</td>\n",
       "      <td>1329447545320443904</td>\n",
       "      <td>@ScottinBayV To believe what these outliers in...</td>\n",
       "      <td>False</td>\n",
       "      <td>[13, 168]</td>\n",
       "      <td>{'hashtags': [], 'symbols': [], 'user_mentions...</td>\n",
       "      <td>&lt;a href=\"http://twitter.com/download/android\" ...</td>\n",
       "      <td>1.329400e+18</td>\n",
       "      <td>1.329400e+18</td>\n",
       "      <td>...</td>\n",
       "      <td>False</td>\n",
       "      <td>False</td>\n",
       "      <td>NaN</td>\n",
       "      <td>en</td>\n",
       "      <td>NaN</td>\n",
       "      <td>NaN</td>\n",
       "      <td>NaN</td>\n",
       "      <td>NaN</td>\n",
       "      <td>NaN</td>\n",
       "      <td>NaN</td>\n",
       "    </tr>\n",
       "  </tbody>\n",
       "</table>\n",
       "<p>5 rows × 31 columns</p>\n",
       "</div>"
      ],
      "text/plain": [
       "                 created_at                   id               id_str  \\\n",
       "0 2020-11-19 15:32:48+00:00  1329447539595227137  1329447539595227136   \n",
       "1 2020-11-19 15:32:48+00:00  1329447539658149888  1329447539658149888   \n",
       "2 2020-11-19 15:32:48+00:00  1329447542212452352  1329447542212452352   \n",
       "3 2020-11-19 15:32:48+00:00  1329447542405406721  1329447542405406720   \n",
       "4 2020-11-19 15:32:49+00:00  1329447545320443904  1329447545320443904   \n",
       "\n",
       "                                           full_text  truncated  \\\n",
       "0  How Amazon and COVID-19 influence 2020 seasona...      False   \n",
       "1  Wow the U.S. already hit 250k+ deaths with COV...      False   \n",
       "2  Meanwhile, Air Canada is booking flights from ...      False   \n",
       "3  @JMinnga @CNNnewsroom @jaketapper @CNN This wo...      False   \n",
       "4  @ScottinBayV To believe what these outliers in...      False   \n",
       "\n",
       "  display_text_range                                           entities  \\\n",
       "0            [0, 85]  {'hashtags': [], 'symbols': [], 'user_mentions...   \n",
       "1           [0, 276]  {'hashtags': [], 'symbols': [], 'user_mentions...   \n",
       "2           [0, 118]  {'hashtags': [{'text': 'RDU', 'indices': [46, ...   \n",
       "3          [39, 165]  {'hashtags': [], 'symbols': [], 'user_mentions...   \n",
       "4          [13, 168]  {'hashtags': [], 'symbols': [], 'user_mentions...   \n",
       "\n",
       "                                              source  in_reply_to_status_id  \\\n",
       "0  <a href=\"https://amplifr.com\" rel=\"nofollow\">A...                    NaN   \n",
       "1  <a href=\"http://twitter.com/download/iphone\" r...                    NaN   \n",
       "2  <a href=\"https://mobile.twitter.com\" rel=\"nofo...                    NaN   \n",
       "3  <a href=\"http://twitter.com/download/iphone\" r...           1.329444e+18   \n",
       "4  <a href=\"http://twitter.com/download/android\" ...           1.329400e+18   \n",
       "\n",
       "   in_reply_to_status_id_str  ...  favorited  retweeted possibly_sensitive  \\\n",
       "0                        NaN  ...      False      False                0.0   \n",
       "1                        NaN  ...      False      False                NaN   \n",
       "2                        NaN  ...      False      False                0.0   \n",
       "3               1.329444e+18  ...      False      False                NaN   \n",
       "4               1.329400e+18  ...      False      False                NaN   \n",
       "\n",
       "  lang extended_entities quoted_status_id quoted_status_id_str  \\\n",
       "0   en               NaN              NaN                  NaN   \n",
       "1   en               NaN              NaN                  NaN   \n",
       "2   en               NaN              NaN                  NaN   \n",
       "3   en               NaN              NaN                  NaN   \n",
       "4   en               NaN              NaN                  NaN   \n",
       "\n",
       "   quoted_status_permalink  quoted_status  withheld_in_countries  \n",
       "0                      NaN            NaN                    NaN  \n",
       "1                      NaN            NaN                    NaN  \n",
       "2                      NaN            NaN                    NaN  \n",
       "3                      NaN            NaN                    NaN  \n",
       "4                      NaN            NaN                    NaN  \n",
       "\n",
       "[5 rows x 31 columns]"
      ]
     },
     "execution_count": 53,
     "metadata": {},
     "output_type": "execute_result"
    }
   ],
   "source": [
    "df_tweets.head()"
   ]
  },
  {
   "cell_type": "code",
   "execution_count": 54,
   "metadata": {
    "colab": {
     "base_uri": "https://localhost:8080/",
     "height": 35
    },
    "executionInfo": {
     "elapsed": 703,
     "status": "ok",
     "timestamp": 1606824506633,
     "user": {
      "displayName": "JAVIER RANDO",
      "photoUrl": "https://lh3.googleusercontent.com/a-/AOh14GiNPaYf78UhV7NkeRoHbkKX8Kt0UJY7GUBA6fN9TQ=s64",
      "userId": "02059478865524595396"
     },
     "user_tz": -60
    },
    "id": "oZg030WuOseN",
    "outputId": "f8cdf8c7-f870-49ad-a74b-594f25603b12"
   },
   "outputs": [
    {
     "data": {
      "text/plain": [
       "'How Amazon and COVID-19 influence 2020 seasonal hiring trends https://t.co/dKT2idSP0J'"
      ]
     },
     "execution_count": 54,
     "metadata": {},
     "output_type": "execute_result"
    }
   ],
   "source": [
    "df_tweets['full_text'][0]"
   ]
  },
  {
   "cell_type": "code",
   "execution_count": 20,
   "metadata": {
    "colab": {
     "base_uri": "https://localhost:8080/",
     "height": 369
    },
    "executionInfo": {
     "elapsed": 48675,
     "status": "ok",
     "timestamp": 1606823991374,
     "user": {
      "displayName": "JAVIER RANDO",
      "photoUrl": "https://lh3.googleusercontent.com/a-/AOh14GiNPaYf78UhV7NkeRoHbkKX8Kt0UJY7GUBA6fN9TQ=s64",
      "userId": "02059478865524595396"
     },
     "user_tz": -60
    },
    "id": "YbnXX8zn8Scp",
    "outputId": "9f8109f8-420d-4234-a9ac-7cbc9c86add2"
   },
   "outputs": [
    {
     "name": "stdout",
     "output_type": "stream",
     "text": [
      "Original dataset size: 96359\n",
      "Dataset size after removing RTs: 96359\n"
     ]
    }
   ],
   "source": [
    "# First, we want to delete all RT to avoid duplicate content and show the original tweet when searching\n",
    "print(\"Original dataset size: {}\".format(len(df_tweets)))\n",
    "df_tweets = df_tweets.loc[~df_tweets['full_text'].str.startswith(\"RT\")]\n",
    "print(\"Dataset size after removing RTs: {}\".format(len(df_tweets)))"
   ]
  },
  {
   "cell_type": "markdown",
   "metadata": {},
   "source": [
    "In our case, our dataset was filtered in the streamer to avoid RTs."
   ]
  },
  {
   "cell_type": "code",
   "execution_count": 21,
   "metadata": {},
   "outputs": [
    {
     "name": "stderr",
     "output_type": "stream",
     "text": [
      "[nltk_data] Downloading package stopwords to /Users/javi/nltk_data...\n",
      "[nltk_data]   Package stopwords is already up-to-date!\n"
     ]
    }
   ],
   "source": [
    "import nltk\n",
    "nltk.download('stopwords')"
   ]
  },
  {
   "cell_type": "code",
   "execution_count": 22,
   "metadata": {},
   "outputs": [
    {
     "data": {
      "text/html": [
       "<div>\n",
       "<style scoped>\n",
       "    .dataframe tbody tr th:only-of-type {\n",
       "        vertical-align: middle;\n",
       "    }\n",
       "\n",
       "    .dataframe tbody tr th {\n",
       "        vertical-align: top;\n",
       "    }\n",
       "\n",
       "    .dataframe thead th {\n",
       "        text-align: right;\n",
       "    }\n",
       "</style>\n",
       "<table border=\"1\" class=\"dataframe\">\n",
       "  <thead>\n",
       "    <tr style=\"text-align: right;\">\n",
       "      <th></th>\n",
       "      <th>created_at</th>\n",
       "      <th>id</th>\n",
       "      <th>id_str</th>\n",
       "      <th>full_text</th>\n",
       "      <th>truncated</th>\n",
       "      <th>display_text_range</th>\n",
       "      <th>entities</th>\n",
       "      <th>source</th>\n",
       "      <th>in_reply_to_status_id</th>\n",
       "      <th>in_reply_to_status_id_str</th>\n",
       "      <th>...</th>\n",
       "      <th>retweeted</th>\n",
       "      <th>possibly_sensitive</th>\n",
       "      <th>lang</th>\n",
       "      <th>extended_entities</th>\n",
       "      <th>quoted_status_id</th>\n",
       "      <th>quoted_status_id_str</th>\n",
       "      <th>quoted_status_permalink</th>\n",
       "      <th>quoted_status</th>\n",
       "      <th>withheld_in_countries</th>\n",
       "      <th>clean_text</th>\n",
       "    </tr>\n",
       "  </thead>\n",
       "  <tbody>\n",
       "    <tr>\n",
       "      <th>0</th>\n",
       "      <td>2020-11-19 15:32:48+00:00</td>\n",
       "      <td>1329447539595227137</td>\n",
       "      <td>1329447539595227136</td>\n",
       "      <td>How Amazon and COVID-19 influence 2020 seasona...</td>\n",
       "      <td>False</td>\n",
       "      <td>[0, 85]</td>\n",
       "      <td>{'hashtags': [], 'symbols': [], 'user_mentions...</td>\n",
       "      <td>&lt;a href=\"https://amplifr.com\" rel=\"nofollow\"&gt;A...</td>\n",
       "      <td>NaN</td>\n",
       "      <td>NaN</td>\n",
       "      <td>...</td>\n",
       "      <td>False</td>\n",
       "      <td>0.0</td>\n",
       "      <td>en</td>\n",
       "      <td>NaN</td>\n",
       "      <td>NaN</td>\n",
       "      <td>NaN</td>\n",
       "      <td>NaN</td>\n",
       "      <td>NaN</td>\n",
       "      <td>NaN</td>\n",
       "      <td>amazon covid19 influenc 2020 season hire trend</td>\n",
       "    </tr>\n",
       "    <tr>\n",
       "      <th>1</th>\n",
       "      <td>2020-11-19 15:32:48+00:00</td>\n",
       "      <td>1329447539658149888</td>\n",
       "      <td>1329447539658149888</td>\n",
       "      <td>Wow the U.S. already hit 250k+ deaths with COV...</td>\n",
       "      <td>False</td>\n",
       "      <td>[0, 276]</td>\n",
       "      <td>{'hashtags': [], 'symbols': [], 'user_mentions...</td>\n",
       "      <td>&lt;a href=\"http://twitter.com/download/iphone\" r...</td>\n",
       "      <td>NaN</td>\n",
       "      <td>NaN</td>\n",
       "      <td>...</td>\n",
       "      <td>False</td>\n",
       "      <td>NaN</td>\n",
       "      <td>en</td>\n",
       "      <td>NaN</td>\n",
       "      <td>NaN</td>\n",
       "      <td>NaN</td>\n",
       "      <td>NaN</td>\n",
       "      <td>NaN</td>\n",
       "      <td>NaN</td>\n",
       "      <td>wow us alreadi hit 250k death covid 84 911 att...</td>\n",
       "    </tr>\n",
       "  </tbody>\n",
       "</table>\n",
       "<p>2 rows × 32 columns</p>\n",
       "</div>"
      ],
      "text/plain": [
       "                 created_at                   id               id_str  \\\n",
       "0 2020-11-19 15:32:48+00:00  1329447539595227137  1329447539595227136   \n",
       "1 2020-11-19 15:32:48+00:00  1329447539658149888  1329447539658149888   \n",
       "\n",
       "                                           full_text  truncated  \\\n",
       "0  How Amazon and COVID-19 influence 2020 seasona...      False   \n",
       "1  Wow the U.S. already hit 250k+ deaths with COV...      False   \n",
       "\n",
       "  display_text_range                                           entities  \\\n",
       "0            [0, 85]  {'hashtags': [], 'symbols': [], 'user_mentions...   \n",
       "1           [0, 276]  {'hashtags': [], 'symbols': [], 'user_mentions...   \n",
       "\n",
       "                                              source  in_reply_to_status_id  \\\n",
       "0  <a href=\"https://amplifr.com\" rel=\"nofollow\">A...                    NaN   \n",
       "1  <a href=\"http://twitter.com/download/iphone\" r...                    NaN   \n",
       "\n",
       "   in_reply_to_status_id_str  ...  retweeted  possibly_sensitive lang  \\\n",
       "0                        NaN  ...      False                 0.0   en   \n",
       "1                        NaN  ...      False                 NaN   en   \n",
       "\n",
       "  extended_entities quoted_status_id quoted_status_id_str  \\\n",
       "0               NaN              NaN                  NaN   \n",
       "1               NaN              NaN                  NaN   \n",
       "\n",
       "  quoted_status_permalink  quoted_status  withheld_in_countries  \\\n",
       "0                     NaN            NaN                    NaN   \n",
       "1                     NaN            NaN                    NaN   \n",
       "\n",
       "                                          clean_text  \n",
       "0     amazon covid19 influenc 2020 season hire trend  \n",
       "1  wow us alreadi hit 250k death covid 84 911 att...  \n",
       "\n",
       "[2 rows x 32 columns]"
      ]
     },
     "execution_count": 22,
     "metadata": {},
     "output_type": "execute_result"
    }
   ],
   "source": [
    " # Then, we clean the resulting tweets\n",
    "df_tweets['clean_text'] = df_tweets['full_text'].apply(lambda x: clean_text(x))\n",
    "df_tweets.head(2)"
   ]
  },
  {
   "cell_type": "code",
   "execution_count": 23,
   "metadata": {
    "colab": {
     "base_uri": "https://localhost:8080/"
    },
    "executionInfo": {
     "elapsed": 1487,
     "status": "ok",
     "timestamp": 1606823992865,
     "user": {
      "displayName": "JAVIER RANDO",
      "photoUrl": "https://lh3.googleusercontent.com/a-/AOh14GiNPaYf78UhV7NkeRoHbkKX8Kt0UJY7GUBA6fN9TQ=s64",
      "userId": "02059478865524595396"
     },
     "user_tz": -60
    },
    "id": "3E6RfGhU7r07",
    "outputId": "f14a0060-7f07-43d4-d403-4efff62c16f4"
   },
   "outputs": [
    {
     "name": "stdout",
     "output_type": "stream",
     "text": [
      "Original tweet: How Amazon and COVID-19 influence 2020 seasonal hiring trends https://t.co/dKT2idSP0J\n",
      "Clean tweet: amazon covid19 influenc 2020 season hire trend\n",
      "------\n",
      "\n",
      "Original tweet: Wow the U.S. already hit 250k+ deaths with COVID. This is more than:\n",
      "\n",
      "- 84 9/11 attacks\n",
      "- 4,311 Las Vegas shootings (2017)\n",
      "- 9,260 Sandy hook shootings (2012)\n",
      "- 11,364 El Paso shootings (2019)\n",
      "- 2 WW1 deaths (233,032)\n",
      "\n",
      "This is so sad. Hearts out to those who lost a loved one.\n",
      "Clean tweet: wow us alreadi hit 250k death covid 84 911 attack 4311 la vega shoot 2017 9260 sandi hook shoot 2012 11364 el paso shoot 2019 2 ww1 death 233032 sad heart lost love one\n",
      "------\n",
      "\n",
      "Original tweet: Meanwhile, Air Canada is booking flights from #RDU in January. #travel #coronavirus #COVID19 \n",
      "\n",
      "https://t.co/lbubQ0G0cl\n",
      "Clean tweet: meanwhil air canada book flight #rdu januari #travel #coronavirus #covid19\n",
      "------\n",
      "\n",
      "Original tweet: @JMinnga @CNNnewsroom @jaketapper @CNN This women has to go to food banks bc of covid lockdowns but democrat officials get to take retreats to Hawaii ... makes sense\n",
      "Clean tweet: women go food bank bc covid lockdown democrat offici get take retreat hawaii make sens\n",
      "------\n",
      "\n"
     ]
    }
   ],
   "source": [
    "# Show sample cleaning procedure for first tweets.\n",
    "\n",
    "for i in range(4):\n",
    "    print(\"Original tweet: {}\".format(df_tweets.iloc[i]['full_text']))\n",
    "    print(\"Clean tweet: {}\".format(df_tweets.iloc[i]['clean_text']))\n",
    "    print(\"------\\n\")"
   ]
  },
  {
   "cell_type": "code",
   "execution_count": 24,
   "metadata": {
    "colab": {
     "base_uri": "https://localhost:8080/"
    },
    "executionInfo": {
     "elapsed": 730,
     "status": "ok",
     "timestamp": 1606824487415,
     "user": {
      "displayName": "JAVIER RANDO",
      "photoUrl": "https://lh3.googleusercontent.com/a-/AOh14GiNPaYf78UhV7NkeRoHbkKX8Kt0UJY7GUBA6fN9TQ=s64",
      "userId": "02059478865524595396"
     },
     "user_tz": -60
    },
    "id": "KgtmIx0-Nn6o",
    "outputId": "637f5d15-0f63-44eb-fef8-a76acf297773"
   },
   "outputs": [
    {
     "data": {
      "text/plain": [
       "Index(['created_at', 'id', 'id_str', 'full_text', 'truncated',\n",
       "       'display_text_range', 'entities', 'source', 'in_reply_to_status_id',\n",
       "       'in_reply_to_status_id_str', 'in_reply_to_user_id',\n",
       "       'in_reply_to_user_id_str', 'in_reply_to_screen_name', 'user', 'geo',\n",
       "       'coordinates', 'place', 'contributors', 'is_quote_status',\n",
       "       'retweet_count', 'favorite_count', 'favorited', 'retweeted',\n",
       "       'possibly_sensitive', 'lang', 'extended_entities', 'quoted_status_id',\n",
       "       'quoted_status_id_str', 'quoted_status_permalink', 'quoted_status',\n",
       "       'withheld_in_countries', 'clean_text'],\n",
       "      dtype='object')"
      ]
     },
     "execution_count": 24,
     "metadata": {},
     "output_type": "execute_result"
    }
   ],
   "source": [
    "df_tweets.columns"
   ]
  },
  {
   "cell_type": "code",
   "execution_count": 25,
   "metadata": {
    "id": "PPpc4h9bLMCO"
   },
   "outputs": [],
   "source": [
    "# Remove empty documents after cleaning\n",
    "df_tweets = df_tweets[df_tweets['clean_text']!='']"
   ]
  },
  {
   "cell_type": "code",
   "execution_count": 26,
   "metadata": {
    "colab": {
     "base_uri": "https://localhost:8080/"
    },
    "executionInfo": {
     "elapsed": 575,
     "status": "ok",
     "timestamp": 1606824790232,
     "user": {
      "displayName": "JAVIER RANDO",
      "photoUrl": "https://lh3.googleusercontent.com/a-/AOh14GiNPaYf78UhV7NkeRoHbkKX8Kt0UJY7GUBA6fN9TQ=s64",
      "userId": "02059478865524595396"
     },
     "user_tz": -60
    },
    "id": "eGE6rBZYNXHF",
    "outputId": "73839b63-ba30-421b-ed2b-6b12cc730be0"
   },
   "outputs": [
    {
     "data": {
      "text/plain": [
       "(95925, 32)"
      ]
     },
     "execution_count": 26,
     "metadata": {},
     "output_type": "execute_result"
    }
   ],
   "source": [
    "df_tweets.shape"
   ]
  },
  {
   "cell_type": "code",
   "execution_count": 27,
   "metadata": {
    "colab": {
     "base_uri": "https://localhost:8080/",
     "height": 35
    },
    "executionInfo": {
     "elapsed": 731,
     "status": "ok",
     "timestamp": 1606824784777,
     "user": {
      "displayName": "JAVIER RANDO",
      "photoUrl": "https://lh3.googleusercontent.com/a-/AOh14GiNPaYf78UhV7NkeRoHbkKX8Kt0UJY7GUBA6fN9TQ=s64",
      "userId": "02059478865524595396"
     },
     "user_tz": -60
    },
    "id": "9RNMXZ_3NgEm",
    "outputId": "9e11ac84-6908-49d6-a809-49fcc5c6c84e"
   },
   "outputs": [
    {
     "data": {
      "text/plain": [
       "'amazon covid19 influenc 2020 season hire trend'"
      ]
     },
     "execution_count": 27,
     "metadata": {},
     "output_type": "execute_result"
    }
   ],
   "source": [
    "df_tweets['clean_text'].values[0]"
   ]
  },
  {
   "cell_type": "code",
   "execution_count": 28,
   "metadata": {
    "id": "F4ss8POd_dgQ"
   },
   "outputs": [],
   "source": [
    "# Checkpoint\n",
    "# df_tweets.to_csv(input_path+'clean_tweets.csv')\n",
    "# df_tweets = pd.read_csv(input_path+'clean_tweets.csv', index_col=0)"
   ]
  },
  {
   "cell_type": "markdown",
   "metadata": {
    "id": "ZzEAN9ZX-nlw"
   },
   "source": [
    "# Inverted index generation"
   ]
  },
  {
   "cell_type": "code",
   "execution_count": 29,
   "metadata": {
    "id": "H-vuqBl6nIzR"
   },
   "outputs": [],
   "source": [
    "from sklearn.feature_extraction.text import TfidfVectorizer\n",
    "\n",
    "def personalized_tokenizer(text):\n",
    "    return text.split()\n",
    "\n",
    "corpus = df_tweets['clean_text']\n",
    "vectorizer = TfidfVectorizer(tokenizer = personalized_tokenizer, lowercase=False)\n",
    "tf_idf = vectorizer.fit_transform(corpus)"
   ]
  },
  {
   "cell_type": "code",
   "execution_count": 31,
   "metadata": {
    "colab": {
     "base_uri": "https://localhost:8080/"
    },
    "executionInfo": {
     "elapsed": 767,
     "status": "ok",
     "timestamp": 1606824826662,
     "user": {
      "displayName": "JAVIER RANDO",
      "photoUrl": "https://lh3.googleusercontent.com/a-/AOh14GiNPaYf78UhV7NkeRoHbkKX8Kt0UJY7GUBA6fN9TQ=s64",
      "userId": "02059478865524595396"
     },
     "user_tz": -60
    },
    "id": "Bzgy2nxqw7ds",
    "outputId": "a01c8bab-e3ac-4b83-9add-50936959032d"
   },
   "outputs": [
    {
     "name": "stdout",
     "output_type": "stream",
     "text": [
      "Example of mapping. Amen->  17810\n",
      "We have 58450 terms in our vocabulary\n"
     ]
    }
   ],
   "source": [
    "mapping = vectorizer.vocabulary_\n",
    "print('Example of mapping. Amen-> ',mapping['amen'])\n",
    "print(\"We have {} terms in our vocabulary\".format(len(mapping)))"
   ]
  },
  {
   "cell_type": "code",
   "execution_count": 32,
   "metadata": {
    "colab": {
     "base_uri": "https://localhost:8080/"
    },
    "executionInfo": {
     "elapsed": 2457,
     "status": "ok",
     "timestamp": 1606824869325,
     "user": {
      "displayName": "JAVIER RANDO",
      "photoUrl": "https://lh3.googleusercontent.com/a-/AOh14GiNPaYf78UhV7NkeRoHbkKX8Kt0UJY7GUBA6fN9TQ=s64",
      "userId": "02059478865524595396"
     },
     "user_tz": -60
    },
    "id": "AMlPVULCvxY_",
    "outputId": "38cc2f49-7807-4ba8-f3fa-4cd2d68d1a3e"
   },
   "outputs": [
    {
     "data": {
      "text/plain": [
       "(95925, 58450)"
      ]
     },
     "execution_count": 32,
     "metadata": {},
     "output_type": "execute_result"
    }
   ],
   "source": [
    "tf_idf_tokens = vectorizer.get_feature_names() # Get the words\n",
    "df_tfidf = pd.DataFrame.sparse.from_spmatrix(data=tf_idf, columns=tf_idf_tokens) # Dataframe each row is a doc and each col a word\n",
    "df_tfidf.shape"
   ]
  },
  {
   "cell_type": "code",
   "execution_count": 33,
   "metadata": {
    "colab": {
     "base_uri": "https://localhost:8080/",
     "height": 284
    },
    "executionInfo": {
     "elapsed": 17017,
     "status": "ok",
     "timestamp": 1606824889432,
     "user": {
      "displayName": "JAVIER RANDO",
      "photoUrl": "https://lh3.googleusercontent.com/a-/AOh14GiNPaYf78UhV7NkeRoHbkKX8Kt0UJY7GUBA6fN9TQ=s64",
      "userId": "02059478865524595396"
     },
     "user_tz": -60
    },
    "id": "8iLWHBZErWgJ",
    "outputId": "6fda50e2-e1c2-4c5c-8f9b-0f7d0d5a662b"
   },
   "outputs": [
    {
     "data": {
      "text/html": [
       "<div>\n",
       "<style scoped>\n",
       "    .dataframe tbody tr th:only-of-type {\n",
       "        vertical-align: middle;\n",
       "    }\n",
       "\n",
       "    .dataframe tbody tr th {\n",
       "        vertical-align: top;\n",
       "    }\n",
       "\n",
       "    .dataframe thead th {\n",
       "        text-align: right;\n",
       "    }\n",
       "</style>\n",
       "<table border=\"1\" class=\"dataframe\">\n",
       "  <thead>\n",
       "    <tr style=\"text-align: right;\">\n",
       "      <th></th>\n",
       "      <th>#</th>\n",
       "      <th>#009</th>\n",
       "      <th>#0f8391b2491b54189769942f6d267ce2</th>\n",
       "      <th>#1</th>\n",
       "      <th>#10</th>\n",
       "      <th>#100</th>\n",
       "      <th>#100000</th>\n",
       "      <th>#1000miglia</th>\n",
       "      <th>#100milesin100swims</th>\n",
       "      <th>#10daystokai</th>\n",
       "      <th>...</th>\n",
       "      <th>zumberg</th>\n",
       "      <th>zur</th>\n",
       "      <th>zurich</th>\n",
       "      <th>zut</th>\n",
       "      <th>zvakubata</th>\n",
       "      <th>zw1</th>\n",
       "      <th>zweig</th>\n",
       "      <th>zweli</th>\n",
       "      <th>zydu</th>\n",
       "      <th>zzx</th>\n",
       "    </tr>\n",
       "    <tr>\n",
       "      <th>rdoc_id</th>\n",
       "      <th></th>\n",
       "      <th></th>\n",
       "      <th></th>\n",
       "      <th></th>\n",
       "      <th></th>\n",
       "      <th></th>\n",
       "      <th></th>\n",
       "      <th></th>\n",
       "      <th></th>\n",
       "      <th></th>\n",
       "      <th></th>\n",
       "      <th></th>\n",
       "      <th></th>\n",
       "      <th></th>\n",
       "      <th></th>\n",
       "      <th></th>\n",
       "      <th></th>\n",
       "      <th></th>\n",
       "      <th></th>\n",
       "      <th></th>\n",
       "      <th></th>\n",
       "    </tr>\n",
       "  </thead>\n",
       "  <tbody>\n",
       "    <tr>\n",
       "      <th>1329447539595227136</th>\n",
       "      <td>0.0</td>\n",
       "      <td>0.0</td>\n",
       "      <td>0.0</td>\n",
       "      <td>0.0</td>\n",
       "      <td>0.0</td>\n",
       "      <td>0.0</td>\n",
       "      <td>0.0</td>\n",
       "      <td>0.0</td>\n",
       "      <td>0.0</td>\n",
       "      <td>0.0</td>\n",
       "      <td>...</td>\n",
       "      <td>0.0</td>\n",
       "      <td>0.0</td>\n",
       "      <td>0.0</td>\n",
       "      <td>0.0</td>\n",
       "      <td>0.0</td>\n",
       "      <td>0.0</td>\n",
       "      <td>0.0</td>\n",
       "      <td>0.0</td>\n",
       "      <td>0.0</td>\n",
       "      <td>0.0</td>\n",
       "    </tr>\n",
       "    <tr>\n",
       "      <th>1329447539658149888</th>\n",
       "      <td>0.0</td>\n",
       "      <td>0.0</td>\n",
       "      <td>0.0</td>\n",
       "      <td>0.0</td>\n",
       "      <td>0.0</td>\n",
       "      <td>0.0</td>\n",
       "      <td>0.0</td>\n",
       "      <td>0.0</td>\n",
       "      <td>0.0</td>\n",
       "      <td>0.0</td>\n",
       "      <td>...</td>\n",
       "      <td>0.0</td>\n",
       "      <td>0.0</td>\n",
       "      <td>0.0</td>\n",
       "      <td>0.0</td>\n",
       "      <td>0.0</td>\n",
       "      <td>0.0</td>\n",
       "      <td>0.0</td>\n",
       "      <td>0.0</td>\n",
       "      <td>0.0</td>\n",
       "      <td>0.0</td>\n",
       "    </tr>\n",
       "    <tr>\n",
       "      <th>1329447542212452352</th>\n",
       "      <td>0.0</td>\n",
       "      <td>0.0</td>\n",
       "      <td>0.0</td>\n",
       "      <td>0.0</td>\n",
       "      <td>0.0</td>\n",
       "      <td>0.0</td>\n",
       "      <td>0.0</td>\n",
       "      <td>0.0</td>\n",
       "      <td>0.0</td>\n",
       "      <td>0.0</td>\n",
       "      <td>...</td>\n",
       "      <td>0.0</td>\n",
       "      <td>0.0</td>\n",
       "      <td>0.0</td>\n",
       "      <td>0.0</td>\n",
       "      <td>0.0</td>\n",
       "      <td>0.0</td>\n",
       "      <td>0.0</td>\n",
       "      <td>0.0</td>\n",
       "      <td>0.0</td>\n",
       "      <td>0.0</td>\n",
       "    </tr>\n",
       "    <tr>\n",
       "      <th>1329447542405406720</th>\n",
       "      <td>0.0</td>\n",
       "      <td>0.0</td>\n",
       "      <td>0.0</td>\n",
       "      <td>0.0</td>\n",
       "      <td>0.0</td>\n",
       "      <td>0.0</td>\n",
       "      <td>0.0</td>\n",
       "      <td>0.0</td>\n",
       "      <td>0.0</td>\n",
       "      <td>0.0</td>\n",
       "      <td>...</td>\n",
       "      <td>0.0</td>\n",
       "      <td>0.0</td>\n",
       "      <td>0.0</td>\n",
       "      <td>0.0</td>\n",
       "      <td>0.0</td>\n",
       "      <td>0.0</td>\n",
       "      <td>0.0</td>\n",
       "      <td>0.0</td>\n",
       "      <td>0.0</td>\n",
       "      <td>0.0</td>\n",
       "    </tr>\n",
       "    <tr>\n",
       "      <th>1329447545320443904</th>\n",
       "      <td>0.0</td>\n",
       "      <td>0.0</td>\n",
       "      <td>0.0</td>\n",
       "      <td>0.0</td>\n",
       "      <td>0.0</td>\n",
       "      <td>0.0</td>\n",
       "      <td>0.0</td>\n",
       "      <td>0.0</td>\n",
       "      <td>0.0</td>\n",
       "      <td>0.0</td>\n",
       "      <td>...</td>\n",
       "      <td>0.0</td>\n",
       "      <td>0.0</td>\n",
       "      <td>0.0</td>\n",
       "      <td>0.0</td>\n",
       "      <td>0.0</td>\n",
       "      <td>0.0</td>\n",
       "      <td>0.0</td>\n",
       "      <td>0.0</td>\n",
       "      <td>0.0</td>\n",
       "      <td>0.0</td>\n",
       "    </tr>\n",
       "  </tbody>\n",
       "</table>\n",
       "<p>5 rows × 58450 columns</p>\n",
       "</div>"
      ],
      "text/plain": [
       "                       #  #009  #0f8391b2491b54189769942f6d267ce2   #1  #10  \\\n",
       "rdoc_id                                                                       \n",
       "1329447539595227136  0.0   0.0                                0.0  0.0  0.0   \n",
       "1329447539658149888  0.0   0.0                                0.0  0.0  0.0   \n",
       "1329447542212452352  0.0   0.0                                0.0  0.0  0.0   \n",
       "1329447542405406720  0.0   0.0                                0.0  0.0  0.0   \n",
       "1329447545320443904  0.0   0.0                                0.0  0.0  0.0   \n",
       "\n",
       "                     #100  #100000  #1000miglia  #100milesin100swims  \\\n",
       "rdoc_id                                                                \n",
       "1329447539595227136   0.0      0.0          0.0                  0.0   \n",
       "1329447539658149888   0.0      0.0          0.0                  0.0   \n",
       "1329447542212452352   0.0      0.0          0.0                  0.0   \n",
       "1329447542405406720   0.0      0.0          0.0                  0.0   \n",
       "1329447545320443904   0.0      0.0          0.0                  0.0   \n",
       "\n",
       "                     #10daystokai  ...  zumberg  zur  zurich  zut  zvakubata  \\\n",
       "rdoc_id                            ...                                         \n",
       "1329447539595227136           0.0  ...      0.0  0.0     0.0  0.0        0.0   \n",
       "1329447539658149888           0.0  ...      0.0  0.0     0.0  0.0        0.0   \n",
       "1329447542212452352           0.0  ...      0.0  0.0     0.0  0.0        0.0   \n",
       "1329447542405406720           0.0  ...      0.0  0.0     0.0  0.0        0.0   \n",
       "1329447545320443904           0.0  ...      0.0  0.0     0.0  0.0        0.0   \n",
       "\n",
       "                     zw1  zweig  zweli  zydu  zzx  \n",
       "rdoc_id                                            \n",
       "1329447539595227136  0.0    0.0    0.0   0.0  0.0  \n",
       "1329447539658149888  0.0    0.0    0.0   0.0  0.0  \n",
       "1329447542212452352  0.0    0.0    0.0   0.0  0.0  \n",
       "1329447542405406720  0.0    0.0    0.0   0.0  0.0  \n",
       "1329447545320443904  0.0    0.0    0.0   0.0  0.0  \n",
       "\n",
       "[5 rows x 58450 columns]"
      ]
     },
     "execution_count": 33,
     "metadata": {},
     "output_type": "execute_result"
    }
   ],
   "source": [
    "# Include the doc_id\n",
    "df_tfidf['rdoc_id'] = list(df_tweets['id_str'].values)\n",
    "df_tfidf = df_tfidf.set_index('rdoc_id', drop=True)\n",
    "df_tfidf.head()"
   ]
  },
  {
   "cell_type": "code",
   "execution_count": 34,
   "metadata": {
    "id": "W67J48z3vFrd"
   },
   "outputs": [],
   "source": [
    "# Transform matrix into dictionary containing for each word the doc where it appears\n",
    "inverted_index = {}\n",
    "\n",
    "for col in df_tfidf.columns:\n",
    "    temp = df_tfidf[col]\n",
    "    temp = temp[temp!=0]\n",
    "    inverted_index[col] = list(zip(temp.index,temp))"
   ]
  },
  {
   "cell_type": "code",
   "execution_count": 35,
   "metadata": {
    "colab": {
     "base_uri": "https://localhost:8080/"
    },
    "executionInfo": {
     "elapsed": 58175,
     "status": "ok",
     "timestamp": 1606824953627,
     "user": {
      "displayName": "JAVIER RANDO",
      "photoUrl": "https://lh3.googleusercontent.com/a-/AOh14GiNPaYf78UhV7NkeRoHbkKX8Kt0UJY7GUBA6fN9TQ=s64",
      "userId": "02059478865524595396"
     },
     "user_tz": -60
    },
    "id": "ydWwPVc0vlH_",
    "outputId": "f5a2dbee-68b8-42e1-b85d-fe432826370c"
   },
   "outputs": [
    {
     "name": "stdout",
     "output_type": "stream",
     "text": [
      "Length of the inverted index = 58450\n"
     ]
    }
   ],
   "source": [
    "print(\"Length of the inverted index = {}\".format(len(inverted_index)))"
   ]
  },
  {
   "cell_type": "code",
   "execution_count": 36,
   "metadata": {
    "colab": {
     "base_uri": "https://localhost:8080/"
    },
    "executionInfo": {
     "elapsed": 57285,
     "status": "ok",
     "timestamp": 1606824953628,
     "user": {
      "displayName": "JAVIER RANDO",
      "photoUrl": "https://lh3.googleusercontent.com/a-/AOh14GiNPaYf78UhV7NkeRoHbkKX8Kt0UJY7GUBA6fN9TQ=s64",
      "userId": "02059478865524595396"
     },
     "user_tz": -60
    },
    "id": "zRmBjcL2wh93",
    "outputId": "584bb24b-2dd9-49ab-af24-6485b00ceb6a"
   },
   "outputs": [
    {
     "data": {
      "text/plain": [
       "[(1329459679861338112, 0.3299102849849904)]"
      ]
     },
     "execution_count": 36,
     "metadata": {},
     "output_type": "execute_result"
    }
   ],
   "source": [
    "# Sample of inverted index for a term\n",
    "inverted_index['#1000miglia']"
   ]
  },
  {
   "cell_type": "code",
   "execution_count": 37,
   "metadata": {
    "id": "xiRpFYgHw66r"
   },
   "outputs": [],
   "source": [
    "# Store inverted index\n",
    "with open(input_path + 'inverted_index.json', 'w') as fp:\n",
    "    json.dump(inverted_index, fp)"
   ]
  },
  {
   "cell_type": "code",
   "execution_count": 38,
   "metadata": {
    "id": "ZdM0dq6Y94UK"
   },
   "outputs": [],
   "source": [
    "# Store vectorizer for later use\n",
    "import pickle\n",
    "pickle.dump(vectorizer, open(input_path + \"vectorizer.pickle\", \"wb\"))"
   ]
  }
 ],
 "metadata": {
  "accelerator": "GPU",
  "colab": {
   "collapsed_sections": [],
   "name": "Code.ipynb",
   "provenance": [],
   "toc_visible": true
  },
  "kernelspec": {
   "display_name": "Python 3",
   "language": "python",
   "name": "python3"
  },
  "language_info": {
   "codemirror_mode": {
    "name": "ipython",
    "version": 3
   },
   "file_extension": ".py",
   "mimetype": "text/x-python",
   "name": "python",
   "nbconvert_exporter": "python",
   "pygments_lexer": "ipython3",
   "version": "3.8.2"
  }
 },
 "nbformat": 4,
 "nbformat_minor": 1
}
